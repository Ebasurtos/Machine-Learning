{
  "nbformat": 4,
  "nbformat_minor": 0,
  "metadata": {
    "colab": {
      "provenance": [],
      "include_colab_link": true
    },
    "kernelspec": {
      "name": "python3",
      "display_name": "Python 3"
    },
    "language_info": {
      "name": "python"
    }
  },
  "cells": [
    {
      "cell_type": "markdown",
      "metadata": {
        "id": "view-in-github",
        "colab_type": "text"
      },
      "source": [
        "<a href=\"https://colab.research.google.com/github/Ebasurtos/Machine-laerning/blob/main/Lab_1_pynb.ipynb\" target=\"_parent\"><img src=\"https://colab.research.google.com/assets/colab-badge.svg\" alt=\"Open In Colab\"/></a>"
      ]
    },
    {
      "cell_type": "markdown",
      "source": [
        "\n",
        "# **Problem Definition**\n",
        "\n",
        "----\n",
        "\n",
        "\n",
        "## Título:\n",
        "- Modelado de los Ingresos Mensuales de una Empresa en Función de la Inversión en Marketing\n",
        "\n",
        "## Contexto:\n",
        "En este ejercicio, se busca analizar cómo la inversión en marketing afecta los ingresos mensuales de una empresa. Para ello, se simulan datos basados en una relación teórica lineal entre la inversión en marketing y los ingresos. Además, se añade ruido aleatorio para reflejar la variabilidad real del mercado. Este modelo es útil para empresas que desean optimizar su presupuesto de marketing al entender mejor su impacto en los ingresos.\n",
        "\n",
        "## Objetivo:\n",
        "Construir un modelo de regresión lineal para estimar los ingresos a partir de los datos de inversión en marketing.\n",
        "Evaluar el modelo mediante métricas como el error cuadrático medio (MSE) y el coeficiente de determinación (𝑅2).\n",
        "\n",
        "Visualizar la relación entre la inversión y los ingresos, incluyendo la línea de regresión ajustada.\n",
        "\n",
        "## [Base de Datos](https://drive.google.com/file/d/14fnliA-4YX_35gh3AwjfBor82GyI3M4R/view?usp=sharing)\n",
        "\n"
      ],
      "metadata": {
        "id": "BH4A_ZZwg_QH"
      }
    },
    {
      "cell_type": "code",
      "execution_count": null,
      "metadata": {
        "id": "2ntOv2vIg7FQ"
      },
      "outputs": [],
      "source": [
        "from google.colab import files\n",
        "import pandas as pd\n",
        "import numpy as np\n",
        "import pandas as pd\n",
        "from sklearn.model_selection import train_test_split\n",
        "from sklearn.linear_model import LinearRegression\n",
        "from sklearn.metrics import mean_squared_error, r2_score\n",
        "import matplotlib.pyplot as plt\n"
      ]
    },
    {
      "cell_type": "markdown",
      "source": [
        "# Data Collection\n",
        "\n",
        "--------\n",
        "\n",
        "## 1. Lectura y limpieza  de Datos"
      ],
      "metadata": {
        "id": "HsNcXiEpktr9"
      }
    },
    {
      "cell_type": "code",
      "source": [
        "uploaded = files.upload()\n",
        "\n",
        "file_path = list(uploaded.keys())[0]\n",
        "data = pd.read_csv(file_path)\n",
        "\n",
        "print(data.head())\n",
        "\n",
        "\n",
        "\n",
        "X = data[\"Inversion_Marketing_USD\"].values.reshape(-1, 1)  # Variable independiente\n",
        "y = data[\"Ingresos_Mensuales_USD\"].values  # Variable dependiente\n",
        "\n",
        "print(\"Primeros datos del archivo:\")\n",
        "print(data.head())\n",
        "\n",
        "print(\"\\nDimensiones de X:\", X.shape)\n",
        "print(\"Dimensiones de y:\", y.shape)\n"
      ],
      "metadata": {
        "id": "pLgZbJ3YkrNx"
      },
      "execution_count": null,
      "outputs": []
    },
    {
      "cell_type": "markdown",
      "source": [
        "# Model Selection and training selection\n",
        "\n",
        "------\n",
        "\n",
        "\n",
        "## 2. Separando los datos en entrenamiento y test"
      ],
      "metadata": {
        "id": "F6jkHQ88k5ti"
      }
    },
    {
      "cell_type": "code",
      "source": [
        "# Ingrese el código para dividir la data  80% para entrenamiento y 20% test\n",
        "# Write your code here"
      ],
      "metadata": {
        "id": "58_cT8xvkgKd"
      },
      "execution_count": null,
      "outputs": []
    },
    {
      "cell_type": "markdown",
      "source": [
        "## 3. Creando y entrenando el modelo"
      ],
      "metadata": {
        "id": "-MaFVJEXlDtS"
      }
    },
    {
      "cell_type": "code",
      "source": [
        "# Write your code here"
      ],
      "metadata": {
        "id": "5bOTn6XBlYza"
      },
      "execution_count": null,
      "outputs": []
    },
    {
      "cell_type": "markdown",
      "source": [
        "# Evaluation and tunning\n",
        "-----\n",
        "\n",
        "## 3 Aplicando métricas MSE y R2\n",
        "\n",
        "Imprima, MSE, R2, Coeficiente de regresión e Intercepto"
      ],
      "metadata": {
        "id": "esECR4svllpB"
      }
    },
    {
      "cell_type": "code",
      "source": [
        "# write  your code here"
      ],
      "metadata": {
        "id": "YXzqSsL6l2wt"
      },
      "execution_count": null,
      "outputs": []
    },
    {
      "cell_type": "markdown",
      "source": [
        "# Visualización de Resultados.\n",
        "Muestra la recta de regresión vs el conjunto de datos."
      ],
      "metadata": {
        "id": "N2GAXIF0l6mR"
      }
    },
    {
      "cell_type": "code",
      "source": [
        "\n",
        "\n",
        "\n"
      ],
      "metadata": {
        "id": "2EV7KurliJno"
      },
      "execution_count": null,
      "outputs": []
    },
    {
      "cell_type": "markdown",
      "source": [
        "# Modelo\n",
        "$Ingresos=Ingreso Base+(Inversión×IngresoMarginal)+RuidoAleatorio$\n",
        "\n",
        "# Preguntas:\n",
        "- ¿Cuanto  ingreso Base calcula su  modelo?\n",
        "- ¿Cuanto  IngresoMarginal calcula su modelo?\n",
        "- ¿Qué tan bien explica el modelo la relación entre inversión y ingresos?\n",
        "- Grafique los residuales\n",
        "- Hallar la media y la varianza de los residuales"
      ],
      "metadata": {
        "id": "-xazR8UaiqZd"
      }
    }
  ]
}