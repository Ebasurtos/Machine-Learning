{
  "cells": [
    {
      "cell_type": "markdown",
      "metadata": {
        "id": "view-in-github",
        "colab_type": "text"
      },
      "source": [
        "<a href=\"https://colab.research.google.com/github/Ebasurtos/Machine-laerning/blob/main/Lab_Linear_Regretion_2024_1.ipynb\" target=\"_parent\"><img src=\"https://colab.research.google.com/assets/colab-badge.svg\" alt=\"Open In Colab\"/></a>"
      ]
    },
    {
      "cell_type": "markdown",
      "source": [
        "#Práctica 1  : Regresión Lineal\n",
        "###Curso       : Machine Learning\n",
        "###Profesor    : Cristian López\n",
        "###Grupo Numero:\n",
        "----\n",
        "Participantes:\n",
        "1.                            (%)\n"
      ],
      "metadata": {
        "id": "E6kE8LGPqPHd"
      }
    },
    {
      "cell_type": "markdown",
      "source": [
        "---\n",
        "1. Reglas de juego:   \n",
        "  a. Al iniciar, coloca los nombres de las personas que realmente han intervenido en el desarrollo de este concurso.   \n",
        "  b. Cada equipo tiene **1 hora y 30 minutos** para terminar el concurso.   \n",
        "  c. Solo se permite modificar el código que dice “modificar”.    \n",
        "  d. Junto a los nombres de los participantes, **coloca el porcentaje de participación** en esta actividad (de 0 a 100). e. Al final, debes tener un **archivo con las respuestas de test**.\n",
        "---\n",
        "\n",
        "2. Datos de testing y training\n",
        "\n",
        "  1. Link para descargar los datos de: [train](https://drive.google.com/file/d/1PyVxgQvvKu2fbPm7P_4CmBRjkNGf82Pc/view?usp=sharing)\n",
        "\n",
        "  2. Link para descargar los datos de: [test](https://drive.google.com/file/d/10mC3koCHCtyZiy-Xu1XPljS5DME9OF8S/view?usp=sharing)\n",
        "\n",
        "3. Descargar los archivos y subir a su drive de google\n",
        "\n",
        "4. Recuerde el path donde están sus archivos dentro de colab"
      ],
      "metadata": {
        "id": "n5_c7fkMq7CB"
      }
    },
    {
      "cell_type": "code",
      "source": [
        "# Comandos para dar acceso a su Drive de google\n",
        "from google.colab import drive\n",
        "drive.mount('/content/drive')\n"
      ],
      "metadata": {
        "colab": {
          "base_uri": "https://localhost:8080/"
        },
        "id": "u_LoqJpdV9RB",
        "outputId": "95b2a362-36f3-4b2f-9da7-b377feabb0e5"
      },
      "execution_count": null,
      "outputs": [
        {
          "output_type": "stream",
          "name": "stdout",
          "text": [
            "Drive already mounted at /content/drive; to attempt to forcibly remount, call drive.mount(\"/content/drive\", force_remount=True).\n"
          ]
        }
      ]
    },
    {
      "cell_type": "markdown",
      "source": [],
      "metadata": {
        "id": "efhV-FV_pahN"
      }
    },
    {
      "cell_type": "code",
      "source": [
        "import pandas as pd\n",
        "import numpy as np\n",
        "import random\n",
        "\n",
        "# Colocar el path donde se encuentra sus archivos train y test\n",
        "path = '/content/drive/MyDrive/UTEC/CURSOS/2024.1/MACHINE LEARNING/PRACTICA/DataSet/'\n",
        "# Cargamos los datos, pero tenga en cuenta que se cargan como dataframes de python\n",
        "df_train = pd.read_csv(path + 'train.csv')\n",
        "df_test  = pd.read_csv(path + 'test.csv')\n",
        "df_test.head()\n"
      ],
      "metadata": {
        "id": "NowEnDO5WFr1",
        "colab": {
          "base_uri": "https://localhost:8080/",
          "height": 206
        },
        "outputId": "bef17d8f-c587-4c7c-aac1-8749ffea7fe9"
      },
      "execution_count": null,
      "outputs": [
        {
          "output_type": "execute_result",
          "data": {
            "text/plain": [
              "     F1    F2\n",
              "0  2000  1328\n",
              "1  1600  1235\n",
              "2  1600  1365\n",
              "3  1600  1150\n",
              "4  1600  1326"
            ],
            "text/html": [
              "\n",
              "  <div id=\"df-923351b3-d2bd-414e-818d-de84312e6a6a\" class=\"colab-df-container\">\n",
              "    <div>\n",
              "<style scoped>\n",
              "    .dataframe tbody tr th:only-of-type {\n",
              "        vertical-align: middle;\n",
              "    }\n",
              "\n",
              "    .dataframe tbody tr th {\n",
              "        vertical-align: top;\n",
              "    }\n",
              "\n",
              "    .dataframe thead th {\n",
              "        text-align: right;\n",
              "    }\n",
              "</style>\n",
              "<table border=\"1\" class=\"dataframe\">\n",
              "  <thead>\n",
              "    <tr style=\"text-align: right;\">\n",
              "      <th></th>\n",
              "      <th>F1</th>\n",
              "      <th>F2</th>\n",
              "    </tr>\n",
              "  </thead>\n",
              "  <tbody>\n",
              "    <tr>\n",
              "      <th>0</th>\n",
              "      <td>2000</td>\n",
              "      <td>1328</td>\n",
              "    </tr>\n",
              "    <tr>\n",
              "      <th>1</th>\n",
              "      <td>1600</td>\n",
              "      <td>1235</td>\n",
              "    </tr>\n",
              "    <tr>\n",
              "      <th>2</th>\n",
              "      <td>1600</td>\n",
              "      <td>1365</td>\n",
              "    </tr>\n",
              "    <tr>\n",
              "      <th>3</th>\n",
              "      <td>1600</td>\n",
              "      <td>1150</td>\n",
              "    </tr>\n",
              "    <tr>\n",
              "      <th>4</th>\n",
              "      <td>1600</td>\n",
              "      <td>1326</td>\n",
              "    </tr>\n",
              "  </tbody>\n",
              "</table>\n",
              "</div>\n",
              "    <div class=\"colab-df-buttons\">\n",
              "\n",
              "  <div class=\"colab-df-container\">\n",
              "    <button class=\"colab-df-convert\" onclick=\"convertToInteractive('df-923351b3-d2bd-414e-818d-de84312e6a6a')\"\n",
              "            title=\"Convert this dataframe to an interactive table.\"\n",
              "            style=\"display:none;\">\n",
              "\n",
              "  <svg xmlns=\"http://www.w3.org/2000/svg\" height=\"24px\" viewBox=\"0 -960 960 960\">\n",
              "    <path d=\"M120-120v-720h720v720H120Zm60-500h600v-160H180v160Zm220 220h160v-160H400v160Zm0 220h160v-160H400v160ZM180-400h160v-160H180v160Zm440 0h160v-160H620v160ZM180-180h160v-160H180v160Zm440 0h160v-160H620v160Z\"/>\n",
              "  </svg>\n",
              "    </button>\n",
              "\n",
              "  <style>\n",
              "    .colab-df-container {\n",
              "      display:flex;\n",
              "      gap: 12px;\n",
              "    }\n",
              "\n",
              "    .colab-df-convert {\n",
              "      background-color: #E8F0FE;\n",
              "      border: none;\n",
              "      border-radius: 50%;\n",
              "      cursor: pointer;\n",
              "      display: none;\n",
              "      fill: #1967D2;\n",
              "      height: 32px;\n",
              "      padding: 0 0 0 0;\n",
              "      width: 32px;\n",
              "    }\n",
              "\n",
              "    .colab-df-convert:hover {\n",
              "      background-color: #E2EBFA;\n",
              "      box-shadow: 0px 1px 2px rgba(60, 64, 67, 0.3), 0px 1px 3px 1px rgba(60, 64, 67, 0.15);\n",
              "      fill: #174EA6;\n",
              "    }\n",
              "\n",
              "    .colab-df-buttons div {\n",
              "      margin-bottom: 4px;\n",
              "    }\n",
              "\n",
              "    [theme=dark] .colab-df-convert {\n",
              "      background-color: #3B4455;\n",
              "      fill: #D2E3FC;\n",
              "    }\n",
              "\n",
              "    [theme=dark] .colab-df-convert:hover {\n",
              "      background-color: #434B5C;\n",
              "      box-shadow: 0px 1px 3px 1px rgba(0, 0, 0, 0.15);\n",
              "      filter: drop-shadow(0px 1px 2px rgba(0, 0, 0, 0.3));\n",
              "      fill: #FFFFFF;\n",
              "    }\n",
              "  </style>\n",
              "\n",
              "    <script>\n",
              "      const buttonEl =\n",
              "        document.querySelector('#df-923351b3-d2bd-414e-818d-de84312e6a6a button.colab-df-convert');\n",
              "      buttonEl.style.display =\n",
              "        google.colab.kernel.accessAllowed ? 'block' : 'none';\n",
              "\n",
              "      async function convertToInteractive(key) {\n",
              "        const element = document.querySelector('#df-923351b3-d2bd-414e-818d-de84312e6a6a');\n",
              "        const dataTable =\n",
              "          await google.colab.kernel.invokeFunction('convertToInteractive',\n",
              "                                                    [key], {});\n",
              "        if (!dataTable) return;\n",
              "\n",
              "        const docLinkHtml = 'Like what you see? Visit the ' +\n",
              "          '<a target=\"_blank\" href=https://colab.research.google.com/notebooks/data_table.ipynb>data table notebook</a>'\n",
              "          + ' to learn more about interactive tables.';\n",
              "        element.innerHTML = '';\n",
              "        dataTable['output_type'] = 'display_data';\n",
              "        await google.colab.output.renderOutput(dataTable, element);\n",
              "        const docLink = document.createElement('div');\n",
              "        docLink.innerHTML = docLinkHtml;\n",
              "        element.appendChild(docLink);\n",
              "      }\n",
              "    </script>\n",
              "  </div>\n",
              "\n",
              "\n",
              "<div id=\"df-3c8a00d1-437b-44b3-95e3-f43f7435e7cf\">\n",
              "  <button class=\"colab-df-quickchart\" onclick=\"quickchart('df-3c8a00d1-437b-44b3-95e3-f43f7435e7cf')\"\n",
              "            title=\"Suggest charts\"\n",
              "            style=\"display:none;\">\n",
              "\n",
              "<svg xmlns=\"http://www.w3.org/2000/svg\" height=\"24px\"viewBox=\"0 0 24 24\"\n",
              "     width=\"24px\">\n",
              "    <g>\n",
              "        <path d=\"M19 3H5c-1.1 0-2 .9-2 2v14c0 1.1.9 2 2 2h14c1.1 0 2-.9 2-2V5c0-1.1-.9-2-2-2zM9 17H7v-7h2v7zm4 0h-2V7h2v10zm4 0h-2v-4h2v4z\"/>\n",
              "    </g>\n",
              "</svg>\n",
              "  </button>\n",
              "\n",
              "<style>\n",
              "  .colab-df-quickchart {\n",
              "      --bg-color: #E8F0FE;\n",
              "      --fill-color: #1967D2;\n",
              "      --hover-bg-color: #E2EBFA;\n",
              "      --hover-fill-color: #174EA6;\n",
              "      --disabled-fill-color: #AAA;\n",
              "      --disabled-bg-color: #DDD;\n",
              "  }\n",
              "\n",
              "  [theme=dark] .colab-df-quickchart {\n",
              "      --bg-color: #3B4455;\n",
              "      --fill-color: #D2E3FC;\n",
              "      --hover-bg-color: #434B5C;\n",
              "      --hover-fill-color: #FFFFFF;\n",
              "      --disabled-bg-color: #3B4455;\n",
              "      --disabled-fill-color: #666;\n",
              "  }\n",
              "\n",
              "  .colab-df-quickchart {\n",
              "    background-color: var(--bg-color);\n",
              "    border: none;\n",
              "    border-radius: 50%;\n",
              "    cursor: pointer;\n",
              "    display: none;\n",
              "    fill: var(--fill-color);\n",
              "    height: 32px;\n",
              "    padding: 0;\n",
              "    width: 32px;\n",
              "  }\n",
              "\n",
              "  .colab-df-quickchart:hover {\n",
              "    background-color: var(--hover-bg-color);\n",
              "    box-shadow: 0 1px 2px rgba(60, 64, 67, 0.3), 0 1px 3px 1px rgba(60, 64, 67, 0.15);\n",
              "    fill: var(--button-hover-fill-color);\n",
              "  }\n",
              "\n",
              "  .colab-df-quickchart-complete:disabled,\n",
              "  .colab-df-quickchart-complete:disabled:hover {\n",
              "    background-color: var(--disabled-bg-color);\n",
              "    fill: var(--disabled-fill-color);\n",
              "    box-shadow: none;\n",
              "  }\n",
              "\n",
              "  .colab-df-spinner {\n",
              "    border: 2px solid var(--fill-color);\n",
              "    border-color: transparent;\n",
              "    border-bottom-color: var(--fill-color);\n",
              "    animation:\n",
              "      spin 1s steps(1) infinite;\n",
              "  }\n",
              "\n",
              "  @keyframes spin {\n",
              "    0% {\n",
              "      border-color: transparent;\n",
              "      border-bottom-color: var(--fill-color);\n",
              "      border-left-color: var(--fill-color);\n",
              "    }\n",
              "    20% {\n",
              "      border-color: transparent;\n",
              "      border-left-color: var(--fill-color);\n",
              "      border-top-color: var(--fill-color);\n",
              "    }\n",
              "    30% {\n",
              "      border-color: transparent;\n",
              "      border-left-color: var(--fill-color);\n",
              "      border-top-color: var(--fill-color);\n",
              "      border-right-color: var(--fill-color);\n",
              "    }\n",
              "    40% {\n",
              "      border-color: transparent;\n",
              "      border-right-color: var(--fill-color);\n",
              "      border-top-color: var(--fill-color);\n",
              "    }\n",
              "    60% {\n",
              "      border-color: transparent;\n",
              "      border-right-color: var(--fill-color);\n",
              "    }\n",
              "    80% {\n",
              "      border-color: transparent;\n",
              "      border-right-color: var(--fill-color);\n",
              "      border-bottom-color: var(--fill-color);\n",
              "    }\n",
              "    90% {\n",
              "      border-color: transparent;\n",
              "      border-bottom-color: var(--fill-color);\n",
              "    }\n",
              "  }\n",
              "</style>\n",
              "\n",
              "  <script>\n",
              "    async function quickchart(key) {\n",
              "      const quickchartButtonEl =\n",
              "        document.querySelector('#' + key + ' button');\n",
              "      quickchartButtonEl.disabled = true;  // To prevent multiple clicks.\n",
              "      quickchartButtonEl.classList.add('colab-df-spinner');\n",
              "      try {\n",
              "        const charts = await google.colab.kernel.invokeFunction(\n",
              "            'suggestCharts', [key], {});\n",
              "      } catch (error) {\n",
              "        console.error('Error during call to suggestCharts:', error);\n",
              "      }\n",
              "      quickchartButtonEl.classList.remove('colab-df-spinner');\n",
              "      quickchartButtonEl.classList.add('colab-df-quickchart-complete');\n",
              "    }\n",
              "    (() => {\n",
              "      let quickchartButtonEl =\n",
              "        document.querySelector('#df-3c8a00d1-437b-44b3-95e3-f43f7435e7cf button');\n",
              "      quickchartButtonEl.style.display =\n",
              "        google.colab.kernel.accessAllowed ? 'block' : 'none';\n",
              "    })();\n",
              "  </script>\n",
              "</div>\n",
              "    </div>\n",
              "  </div>\n"
            ],
            "application/vnd.google.colaboratory.intrinsic+json": {
              "type": "dataframe",
              "variable_name": "df_test",
              "summary": "{\n  \"name\": \"df_test\",\n  \"rows\": 11,\n  \"fields\": [\n    {\n      \"column\": \"F1\",\n      \"properties\": {\n        \"dtype\": \"number\",\n        \"std\": 426,\n        \"min\": 900,\n        \"max\": 2500,\n        \"num_unique_values\": 5,\n        \"samples\": [\n          1600,\n          1000,\n          900\n        ],\n        \"semantic_type\": \"\",\n        \"description\": \"\"\n      }\n    },\n    {\n      \"column\": \"F2\",\n      \"properties\": {\n        \"dtype\": \"number\",\n        \"std\": 228,\n        \"min\": 790,\n        \"max\": 1523,\n        \"num_unique_values\": 11,\n        \"samples\": [\n          865,\n          1328,\n          790\n        ],\n        \"semantic_type\": \"\",\n        \"description\": \"\"\n      }\n    }\n  ]\n}"
            }
          },
          "metadata": {},
          "execution_count": 119
        }
      ]
    },
    {
      "cell_type": "code",
      "source": [
        "# Convertimos los dataframe a numpy array\n",
        "x_train = df_train[[\"F1\"]].to_numpy()\n",
        "# Descomentar para probar con n variables\n",
        "# x_train = df_train[[\"F1\",\"F2\"]].to_numpy()\n",
        "\n",
        "y_train = df_train[[\"Y\"]].to_numpy()\n",
        "\n",
        "# Descomentar para probar con n variables\n",
        "# x_test = df_test[[\"F1\",\"F2\"]].to_numpy()\n",
        "\n",
        "\n",
        "# Normalizando los datos\n",
        "x_train = (max(x_train) - x_train) /(max(x_train) - min(x_train))\n",
        "y_train = (max(y_train) - y_train) /(max(y_train) - min(y_train))\n",
        "\n"
      ],
      "metadata": {
        "id": "BTYNnrH-eIiL"
      },
      "execution_count": null,
      "outputs": []
    },
    {
      "cell_type": "markdown",
      "metadata": {
        "id": "DRbGcXmWIaKO"
      },
      "source": [
        "# Modelo\n",
        "$h(X) = X*W^T + b$"
      ]
    },
    {
      "cell_type": "code",
      "execution_count": null,
      "metadata": {
        "id": "2NnYyf2oG1Fw"
      },
      "outputs": [],
      "source": [
        "def h(x,w,b):\n",
        "  return np.dot(x,w) + b\n",
        " # write your code here\n",
        "\n"
      ]
    },
    {
      "cell_type": "markdown",
      "metadata": {
        "id": "MHWVdGjbIUna"
      },
      "source": [
        "# Loss function\n",
        "$Loss =\\frac{1}{2n}\\sum_{i=0}^n (y_i - h(x_i))^2$"
      ]
    },
    {
      "cell_type": "code",
      "execution_count": null,
      "metadata": {
        "id": "2FiEbigVG9Hf"
      },
      "outputs": [],
      "source": [
        "def Error(x,y,w,b):\n",
        "   y_aprox = h(x,w,b)\n",
        "   s = 0\n",
        "   for i in range(len(y)):\n",
        "      s = s  + (y[i] - y_aprox[i])**2\n",
        "   return  s/(2*len(y))\n",
        "  # write your code here\n",
        "\n",
        "\n",
        "\n"
      ]
    },
    {
      "cell_type": "markdown",
      "metadata": {
        "id": "jV-_CQ87FrdQ"
      },
      "source": [
        "# Derivadas:\n",
        "\n",
        "Este código se debe modificar para obtener las k derivadas.\n",
        "  \n",
        "$db = \\frac{1}{m}\\sum_{i=0}^m(y_i - h(x_i))(-1)$\n",
        "\n",
        "$dw_j = \\frac{1}{m}\\sum_{i=0}^m(y_i - h(x_i))(-x_j)$"
      ]
    },
    {
      "cell_type": "code",
      "execution_count": null,
      "metadata": {
        "id": "0RxT6ee6H8Vn"
      },
      "outputs": [],
      "source": [
        "# Change your code here for work in n dimensions\n",
        "def derivada(x,y,w,b):\n",
        "  sum1 = 0\n",
        "  sum2 = 0\n",
        "\n",
        "  for i in range(len(y)):\n",
        "    sum1 += (y[i] -h(x[i], w, b)) * (-1)\n",
        "    sum2 += (y[i] -h(x[i], w, b)) * (-x[i])\n",
        "\n",
        "  db = sum1/len(y)\n",
        "  dw = sum2/len(y)\n",
        "  return db,dw\n",
        "\n"
      ]
    },
    {
      "cell_type": "markdown",
      "source": [
        "# Actualización  de parámetros\n",
        "\n",
        "Tenga en cuenta que ahora tenemos k+1 parámetros que debemos actualizar, por lo tanto este código se debe modificar\n",
        "\n",
        "$w_j = w - alfa*dw_j$  \n",
        "$b = b - alfa*db$\n",
        "\n"
      ],
      "metadata": {
        "id": "8txZSwmyu_W4"
      }
    },
    {
      "cell_type": "code",
      "execution_count": null,
      "metadata": {
        "id": "yv06Mc7NJJx6"
      },
      "outputs": [],
      "source": [
        "# Change your code here for work in n dimensions\n",
        "def update(w,b, alpha,db,dw):\n",
        "  db =   b  - alpha*db\n",
        "  dw =   w  - alpha*dw\n",
        "  return db,dw\n",
        "  # write your code here"
      ]
    },
    {
      "cell_type": "markdown",
      "source": [
        "# Entrenamiento\n",
        "\n",
        "Se deben modificar solo la inicialización por que ahora w no es un único valor"
      ],
      "metadata": {
        "id": "fWmlhJtutkcr"
      }
    },
    {
      "cell_type": "code",
      "execution_count": null,
      "metadata": {
        "id": "HSuPO-XiIjem"
      },
      "outputs": [],
      "source": [
        "# Change your code here for work in n dimensions\n",
        "def train(x,y,epochs, alfa):\n",
        "  # No borrar ni cambiar\n",
        "  np.random.seed(12)\n",
        "  w = np.random.rand()\n",
        "  b = np.random.rand()\n",
        "  L = Error(x,y,w,b)\n",
        "  mse = 0\n",
        "  i=0\n",
        "  for i in range(epochs):\n",
        "    db, dw = derivada(x,y,w,b)\n",
        "    b,w = update(w,b,alfa,db,dw)\n",
        "    L = Error(x,y,w,b)\n",
        "    mse = mse + L\n",
        "    if(i%100==0):\n",
        "\n",
        "      print(\"mse en iteración\" + str(i) + \" : \" + str(L) )\n",
        "    i=i+1\n",
        "  return b,w,mse/(i+1)\n",
        "\n"
      ]
    },
    {
      "cell_type": "markdown",
      "source": [
        "# Training the model\n",
        "## No modificar ....."
      ],
      "metadata": {
        "id": "m7cG4tK2fmK8"
      }
    },
    {
      "cell_type": "code",
      "source": [
        "\n",
        "#Setting the hiperparameter\n",
        "alfa = 0.07\n",
        "umbral = 0.045\n",
        "#Training the model\n",
        "b,w, avg_mse = train(x_train, y_train, umbral, alfa)\n",
        "#Show the average mean square error\n",
        "print(\"avg_mse :\" + str(avg_mse))\n",
        "\n"
      ],
      "metadata": {
        "colab": {
          "base_uri": "https://localhost:8080/"
        },
        "id": "1fDoxgZxh2jV",
        "outputId": "946342d8-9a97-487b-c53d-7e3bd7f697fa"
      },
      "execution_count": null,
      "outputs": [
        {
          "output_type": "stream",
          "name": "stdout",
          "text": [
            "mse en iteración0 : [0.09453152]\n",
            "mse en iteración100 : [0.04759989]\n",
            "mse en iteración200 : [0.04611997]\n",
            "mse en iteración300 : [0.04551771]\n",
            "mse en iteración400 : [0.04525478]\n",
            "mse en iteración500 : [0.04513148]\n",
            "mse en iteración600 : [0.04506979]\n",
            "mse en iteración700 : [0.04503728]\n",
            "mse en iteración800 : [0.04501951]\n",
            "mse en iteración900 : [0.04500954]\n",
            "mse en iteración1000 : [0.04500387]\n",
            "mse en iteración1100 : [0.0450006]\n",
            "avg_mse :[0.04594976]\n"
          ]
        }
      ]
    },
    {
      "cell_type": "markdown",
      "source": [
        "# Testing the model\n",
        "\n",
        "# No modificar"
      ],
      "metadata": {
        "id": "SRbI3Gmnj5Pm"
      }
    },
    {
      "cell_type": "code",
      "source": [
        "# No modificar .....\n",
        "x_test = df_test[[\"F1\"]].to_numpy()\n",
        "\n",
        "# Descomentar para probar con n variables\n",
        "# x_test = df_test[[\"F1\",\"F2\"]].to_numpy()\n",
        "\n",
        "x_test = (max(x_test) - x_test) /(max(x_test) - min(x_test))\n",
        "predic = h(x_test,w,b)\n",
        "predic = np.array(predic)\n",
        "predic.tofile(path  + \"G1_Result.cvs\")\n",
        "print(predic)\n",
        "\n",
        "# Desnormalizar"
      ],
      "metadata": {
        "id": "g2U9kMeDj-na",
        "colab": {
          "base_uri": "https://localhost:8080/"
        },
        "outputId": "b06d9052-957d-45e6-d203-25e2f6669a1a"
      },
      "execution_count": null,
      "outputs": [
        {
          "output_type": "stream",
          "name": "stdout",
          "text": [
            "[0.49921186 0.60352765 0.60352765 0.60352765 0.60352765 0.7860803\n",
            " 0.60352765 0.36881711 0.60352765 0.76000135 0.60352765]\n"
          ]
        }
      ]
    },
    {
      "cell_type": "markdown",
      "source": [
        "# Verificando sus resultados\n",
        "\n",
        "Copiar los resultados en el mismo orden en el siguiente documento de drive. Solo use la columna donde está en nombre de su Grupo. En la pestaña Puntajes, colocar los resultados que han obtenido en el orden que los han obtenido.\n",
        "[Coloque resultados aquí](https://docs.google.com/spreadsheets/d/1kcG5hVY0L1GgbvffGKf3BUFKIrruwE6OA9u8B-PB4Bs/edit?usp=sharing)\n",
        "\n"
      ],
      "metadata": {
        "id": "K7QM4lOtykTY"
      }
    }
  ],
  "metadata": {
    "colab": {
      "provenance": [],
      "include_colab_link": true
    },
    "kernelspec": {
      "display_name": "Python 3",
      "name": "python3"
    },
    "language_info": {
      "name": "python"
    }
  },
  "nbformat": 4,
  "nbformat_minor": 0
}