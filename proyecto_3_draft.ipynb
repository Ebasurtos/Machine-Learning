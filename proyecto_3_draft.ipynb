{
  "cells": [
    {
      "cell_type": "markdown",
      "metadata": {
        "id": "view-in-github",
        "colab_type": "text"
      },
      "source": [
        "<a href=\"https://colab.research.google.com/github/Ebasurtos/Machine-Learning/blob/main/proyecto_3_draft.ipynb\" target=\"_parent\"><img src=\"https://colab.research.google.com/assets/colab-badge.svg\" alt=\"Open In Colab\"/></a>"
      ]
    },
    {
      "cell_type": "code",
      "source": [
        "from google.colab import drive\n",
        "drive.mount('/content/drive/')\n",
        "\n",
        "path = '/content/drive/MyDrive/ML_Data/leedsbutterfly/images'\n"
      ],
      "metadata": {
        "colab": {
          "base_uri": "https://localhost:8080/"
        },
        "id": "zF5MKGCFaDMa",
        "outputId": "6c084c05-566b-4aa0-ef57-46c8e6cf84b9"
      },
      "execution_count": null,
      "outputs": [
        {
          "output_type": "stream",
          "name": "stdout",
          "text": [
            "Drive already mounted at /content/drive/; to attempt to forcibly remount, call drive.mount(\"/content/drive/\", force_remount=True).\n"
          ]
        }
      ]
    },
    {
      "cell_type": "code",
      "source": [],
      "metadata": {
        "id": "GXheHDbXaMss"
      },
      "execution_count": null,
      "outputs": []
    },
    {
      "cell_type": "markdown",
      "metadata": {
        "id": "232cf4ff"
      },
      "source": [
        "## Install and import libraries\n",
        "\n",
        "### Subtask:\n",
        "Install necessary libraries like PyTorch, torchvision, and matplotlib.pyplot.\n"
      ]
    },
    {
      "cell_type": "markdown",
      "metadata": {
        "id": "32656286"
      },
      "source": [
        "**Reasoning**:\n",
        "Install the required libraries using pip and then import them.\n",
        "\n"
      ]
    },
    {
      "cell_type": "code",
      "metadata": {
        "colab": {
          "base_uri": "https://localhost:8080/"
        },
        "id": "1de4014b",
        "outputId": "60228f60-307c-41e1-9388-88528d81b931"
      },
      "source": [
        "!pip install torch torchvision matplotlib\n",
        "\n",
        "import torch\n",
        "import torchvision\n",
        "import matplotlib.pyplot as plt"
      ],
      "execution_count": null,
      "outputs": [
        {
          "output_type": "stream",
          "name": "stdout",
          "text": [
            "Requirement already satisfied: torch in /usr/local/lib/python3.12/dist-packages (2.8.0+cu126)\n",
            "Requirement already satisfied: torchvision in /usr/local/lib/python3.12/dist-packages (0.23.0+cu126)\n",
            "Requirement already satisfied: matplotlib in /usr/local/lib/python3.12/dist-packages (3.10.0)\n",
            "Requirement already satisfied: filelock in /usr/local/lib/python3.12/dist-packages (from torch) (3.19.1)\n",
            "Requirement already satisfied: typing-extensions>=4.10.0 in /usr/local/lib/python3.12/dist-packages (from torch) (4.14.1)\n",
            "Requirement already satisfied: setuptools in /usr/local/lib/python3.12/dist-packages (from torch) (75.2.0)\n",
            "Requirement already satisfied: sympy>=1.13.3 in /usr/local/lib/python3.12/dist-packages (from torch) (1.13.3)\n",
            "Requirement already satisfied: networkx in /usr/local/lib/python3.12/dist-packages (from torch) (3.5)\n",
            "Requirement already satisfied: jinja2 in /usr/local/lib/python3.12/dist-packages (from torch) (3.1.6)\n",
            "Requirement already satisfied: fsspec in /usr/local/lib/python3.12/dist-packages (from torch) (2025.3.0)\n",
            "Requirement already satisfied: nvidia-cuda-nvrtc-cu12==12.6.77 in /usr/local/lib/python3.12/dist-packages (from torch) (12.6.77)\n",
            "Requirement already satisfied: nvidia-cuda-runtime-cu12==12.6.77 in /usr/local/lib/python3.12/dist-packages (from torch) (12.6.77)\n",
            "Requirement already satisfied: nvidia-cuda-cupti-cu12==12.6.80 in /usr/local/lib/python3.12/dist-packages (from torch) (12.6.80)\n",
            "Requirement already satisfied: nvidia-cudnn-cu12==9.10.2.21 in /usr/local/lib/python3.12/dist-packages (from torch) (9.10.2.21)\n",
            "Requirement already satisfied: nvidia-cublas-cu12==12.6.4.1 in /usr/local/lib/python3.12/dist-packages (from torch) (12.6.4.1)\n",
            "Requirement already satisfied: nvidia-cufft-cu12==11.3.0.4 in /usr/local/lib/python3.12/dist-packages (from torch) (11.3.0.4)\n",
            "Requirement already satisfied: nvidia-curand-cu12==10.3.7.77 in /usr/local/lib/python3.12/dist-packages (from torch) (10.3.7.77)\n",
            "Requirement already satisfied: nvidia-cusolver-cu12==11.7.1.2 in /usr/local/lib/python3.12/dist-packages (from torch) (11.7.1.2)\n",
            "Requirement already satisfied: nvidia-cusparse-cu12==12.5.4.2 in /usr/local/lib/python3.12/dist-packages (from torch) (12.5.4.2)\n",
            "Requirement already satisfied: nvidia-cusparselt-cu12==0.7.1 in /usr/local/lib/python3.12/dist-packages (from torch) (0.7.1)\n",
            "Requirement already satisfied: nvidia-nccl-cu12==2.27.3 in /usr/local/lib/python3.12/dist-packages (from torch) (2.27.3)\n",
            "Requirement already satisfied: nvidia-nvtx-cu12==12.6.77 in /usr/local/lib/python3.12/dist-packages (from torch) (12.6.77)\n",
            "Requirement already satisfied: nvidia-nvjitlink-cu12==12.6.85 in /usr/local/lib/python3.12/dist-packages (from torch) (12.6.85)\n",
            "Requirement already satisfied: nvidia-cufile-cu12==1.11.1.6 in /usr/local/lib/python3.12/dist-packages (from torch) (1.11.1.6)\n",
            "Requirement already satisfied: triton==3.4.0 in /usr/local/lib/python3.12/dist-packages (from torch) (3.4.0)\n",
            "Requirement already satisfied: numpy in /usr/local/lib/python3.12/dist-packages (from torchvision) (2.0.2)\n",
            "Requirement already satisfied: pillow!=8.3.*,>=5.3.0 in /usr/local/lib/python3.12/dist-packages (from torchvision) (11.3.0)\n",
            "Requirement already satisfied: contourpy>=1.0.1 in /usr/local/lib/python3.12/dist-packages (from matplotlib) (1.3.3)\n",
            "Requirement already satisfied: cycler>=0.10 in /usr/local/lib/python3.12/dist-packages (from matplotlib) (0.12.1)\n",
            "Requirement already satisfied: fonttools>=4.22.0 in /usr/local/lib/python3.12/dist-packages (from matplotlib) (4.59.1)\n",
            "Requirement already satisfied: kiwisolver>=1.3.1 in /usr/local/lib/python3.12/dist-packages (from matplotlib) (1.4.9)\n",
            "Requirement already satisfied: packaging>=20.0 in /usr/local/lib/python3.12/dist-packages (from matplotlib) (25.0)\n",
            "Requirement already satisfied: pyparsing>=2.3.1 in /usr/local/lib/python3.12/dist-packages (from matplotlib) (3.2.3)\n",
            "Requirement already satisfied: python-dateutil>=2.7 in /usr/local/lib/python3.12/dist-packages (from matplotlib) (2.9.0.post0)\n",
            "Requirement already satisfied: six>=1.5 in /usr/local/lib/python3.12/dist-packages (from python-dateutil>=2.7->matplotlib) (1.17.0)\n",
            "Requirement already satisfied: mpmath<1.4,>=1.1.0 in /usr/local/lib/python3.12/dist-packages (from sympy>=1.13.3->torch) (1.3.0)\n",
            "Requirement already satisfied: MarkupSafe>=2.0 in /usr/local/lib/python3.12/dist-packages (from jinja2->torch) (3.0.2)\n"
          ]
        }
      ]
    },
    {
      "cell_type": "markdown",
      "metadata": {
        "id": "2a960f13"
      },
      "source": [
        "## Load and preprocess the data\n",
        "\n",
        "### Subtask:\n",
        "Load the butterfly image dataset, apply necessary transformations (resizing, normalization), and split it into training and testing sets.\n"
      ]
    },
    {
      "cell_type": "markdown",
      "metadata": {
        "id": "5a3b3597"
      },
      "source": [
        "**Reasoning**:\n",
        "Define the image transformations, load the dataset, create a DataLoader for the full dataset, and split it into training and testing sets with their respective DataLoaders.\n",
        "\n"
      ]
    },
    {
      "cell_type": "code",
      "metadata": {
        "colab": {
          "base_uri": "https://localhost:8080/",
          "height": 356
        },
        "id": "8eb1cd1b",
        "outputId": "e41d05d4-c8be-4de2-b58f-2e18e49aa53d"
      },
      "source": [
        "import torchvision.transforms as transforms\n",
        "from torch.utils.data import DataLoader, random_split\n",
        "\n",
        "# 1. Define the image transformations\n",
        "transform = transforms.Compose([\n",
        "    transforms.Resize((128, 128)),  # Resize images to 128x128\n",
        "    transforms.ToTensor(),         # Convert images to PyTorch tensors\n",
        "    transforms.Normalize(mean=[0.485, 0.456, 0.406], std=[0.229, 0.224, 0.225]) # Normalize\n",
        "])\n",
        "\n",
        "# 2. Load the dataset\n",
        "dataset = torchvision.datasets.ImageFolder(root=path, transform=transform)\n",
        "\n",
        "# 3. Create a DataLoader for the full dataset (optional, mainly for initial exploration)\n",
        "# full_dataloader = DataLoader(dataset, batch_size=32, shuffle=True)\n",
        "\n",
        "# 4. Split the dataset into training and testing sets\n",
        "train_size = int(0.8 * len(dataset))\n",
        "test_size = len(dataset) - train_size\n",
        "train_dataset, test_dataset = random_split(dataset, [train_size, test_size])\n",
        "\n",
        "# 5. Create separate DataLoader objects for the training and testing sets\n",
        "train_dataloader = DataLoader(train_dataset, batch_size=32, shuffle=True)\n",
        "test_dataloader = DataLoader(test_dataset, batch_size=32, shuffle=False)\n",
        "\n",
        "print(f\"Number of training images: {len(train_dataset)}\")\n",
        "print(f\"Number of testing images: {len(test_dataset)}\")\n",
        "print(f\"Classes: {dataset.classes}\")"
      ],
      "execution_count": null,
      "outputs": [
        {
          "output_type": "error",
          "ename": "FileNotFoundError",
          "evalue": "Couldn't find any class folder in /content/drive/MyDrive/ML_Data/leedsbutterfly/images.",
          "traceback": [
            "\u001b[0;31m---------------------------------------------------------------------------\u001b[0m",
            "\u001b[0;31mFileNotFoundError\u001b[0m                         Traceback (most recent call last)",
            "\u001b[0;32m/tmp/ipython-input-2780923588.py\u001b[0m in \u001b[0;36m<cell line: 0>\u001b[0;34m()\u001b[0m\n\u001b[1;32m     10\u001b[0m \u001b[0;34m\u001b[0m\u001b[0m\n\u001b[1;32m     11\u001b[0m \u001b[0;31m# 2. Load the dataset\u001b[0m\u001b[0;34m\u001b[0m\u001b[0;34m\u001b[0m\u001b[0m\n\u001b[0;32m---> 12\u001b[0;31m \u001b[0mdataset\u001b[0m \u001b[0;34m=\u001b[0m \u001b[0mtorchvision\u001b[0m\u001b[0;34m.\u001b[0m\u001b[0mdatasets\u001b[0m\u001b[0;34m.\u001b[0m\u001b[0mImageFolder\u001b[0m\u001b[0;34m(\u001b[0m\u001b[0mroot\u001b[0m\u001b[0;34m=\u001b[0m\u001b[0mpath\u001b[0m\u001b[0;34m,\u001b[0m \u001b[0mtransform\u001b[0m\u001b[0;34m=\u001b[0m\u001b[0mtransform\u001b[0m\u001b[0;34m)\u001b[0m\u001b[0;34m\u001b[0m\u001b[0;34m\u001b[0m\u001b[0m\n\u001b[0m\u001b[1;32m     13\u001b[0m \u001b[0;34m\u001b[0m\u001b[0m\n\u001b[1;32m     14\u001b[0m \u001b[0;31m# 3. Create a DataLoader for the full dataset (optional, mainly for initial exploration)\u001b[0m\u001b[0;34m\u001b[0m\u001b[0;34m\u001b[0m\u001b[0m\n",
            "\u001b[0;32m/usr/local/lib/python3.12/dist-packages/torchvision/datasets/folder.py\u001b[0m in \u001b[0;36m__init__\u001b[0;34m(self, root, transform, target_transform, loader, is_valid_file, allow_empty)\u001b[0m\n\u001b[1;32m    326\u001b[0m         \u001b[0mallow_empty\u001b[0m\u001b[0;34m:\u001b[0m \u001b[0mbool\u001b[0m \u001b[0;34m=\u001b[0m \u001b[0;32mFalse\u001b[0m\u001b[0;34m,\u001b[0m\u001b[0;34m\u001b[0m\u001b[0;34m\u001b[0m\u001b[0m\n\u001b[1;32m    327\u001b[0m     ):\n\u001b[0;32m--> 328\u001b[0;31m         super().__init__(\n\u001b[0m\u001b[1;32m    329\u001b[0m             \u001b[0mroot\u001b[0m\u001b[0;34m,\u001b[0m\u001b[0;34m\u001b[0m\u001b[0;34m\u001b[0m\u001b[0m\n\u001b[1;32m    330\u001b[0m             \u001b[0mloader\u001b[0m\u001b[0;34m,\u001b[0m\u001b[0;34m\u001b[0m\u001b[0;34m\u001b[0m\u001b[0m\n",
            "\u001b[0;32m/usr/local/lib/python3.12/dist-packages/torchvision/datasets/folder.py\u001b[0m in \u001b[0;36m__init__\u001b[0;34m(self, root, loader, extensions, transform, target_transform, is_valid_file, allow_empty)\u001b[0m\n\u001b[1;32m    147\u001b[0m     ) -> None:\n\u001b[1;32m    148\u001b[0m         \u001b[0msuper\u001b[0m\u001b[0;34m(\u001b[0m\u001b[0;34m)\u001b[0m\u001b[0;34m.\u001b[0m\u001b[0m__init__\u001b[0m\u001b[0;34m(\u001b[0m\u001b[0mroot\u001b[0m\u001b[0;34m,\u001b[0m \u001b[0mtransform\u001b[0m\u001b[0;34m=\u001b[0m\u001b[0mtransform\u001b[0m\u001b[0;34m,\u001b[0m \u001b[0mtarget_transform\u001b[0m\u001b[0;34m=\u001b[0m\u001b[0mtarget_transform\u001b[0m\u001b[0;34m)\u001b[0m\u001b[0;34m\u001b[0m\u001b[0;34m\u001b[0m\u001b[0m\n\u001b[0;32m--> 149\u001b[0;31m         \u001b[0mclasses\u001b[0m\u001b[0;34m,\u001b[0m \u001b[0mclass_to_idx\u001b[0m \u001b[0;34m=\u001b[0m \u001b[0mself\u001b[0m\u001b[0;34m.\u001b[0m\u001b[0mfind_classes\u001b[0m\u001b[0;34m(\u001b[0m\u001b[0mself\u001b[0m\u001b[0;34m.\u001b[0m\u001b[0mroot\u001b[0m\u001b[0;34m)\u001b[0m\u001b[0;34m\u001b[0m\u001b[0;34m\u001b[0m\u001b[0m\n\u001b[0m\u001b[1;32m    150\u001b[0m         samples = self.make_dataset(\n\u001b[1;32m    151\u001b[0m             \u001b[0mself\u001b[0m\u001b[0;34m.\u001b[0m\u001b[0mroot\u001b[0m\u001b[0;34m,\u001b[0m\u001b[0;34m\u001b[0m\u001b[0;34m\u001b[0m\u001b[0m\n",
            "\u001b[0;32m/usr/local/lib/python3.12/dist-packages/torchvision/datasets/folder.py\u001b[0m in \u001b[0;36mfind_classes\u001b[0;34m(self, directory)\u001b[0m\n\u001b[1;32m    232\u001b[0m             \u001b[0;34m(\u001b[0m\u001b[0mTuple\u001b[0m\u001b[0;34m[\u001b[0m\u001b[0mList\u001b[0m\u001b[0;34m[\u001b[0m\u001b[0mstr\u001b[0m\u001b[0;34m]\u001b[0m\u001b[0;34m,\u001b[0m \u001b[0mDict\u001b[0m\u001b[0;34m[\u001b[0m\u001b[0mstr\u001b[0m\u001b[0;34m,\u001b[0m \u001b[0mint\u001b[0m\u001b[0;34m]\u001b[0m\u001b[0;34m]\u001b[0m\u001b[0;34m)\u001b[0m\u001b[0;34m:\u001b[0m \u001b[0mList\u001b[0m \u001b[0mof\u001b[0m \u001b[0mall\u001b[0m \u001b[0mclasses\u001b[0m \u001b[0;32mand\u001b[0m \u001b[0mdictionary\u001b[0m \u001b[0mmapping\u001b[0m \u001b[0meach\u001b[0m \u001b[0;32mclass\u001b[0m \u001b[0mto\u001b[0m \u001b[0man\u001b[0m \u001b[0mindex\u001b[0m\u001b[0;34m.\u001b[0m\u001b[0;34m\u001b[0m\u001b[0;34m\u001b[0m\u001b[0m\n\u001b[1;32m    233\u001b[0m         \"\"\"\n\u001b[0;32m--> 234\u001b[0;31m         \u001b[0;32mreturn\u001b[0m \u001b[0mfind_classes\u001b[0m\u001b[0;34m(\u001b[0m\u001b[0mdirectory\u001b[0m\u001b[0;34m)\u001b[0m\u001b[0;34m\u001b[0m\u001b[0;34m\u001b[0m\u001b[0m\n\u001b[0m\u001b[1;32m    235\u001b[0m \u001b[0;34m\u001b[0m\u001b[0m\n\u001b[1;32m    236\u001b[0m     \u001b[0;32mdef\u001b[0m \u001b[0m__getitem__\u001b[0m\u001b[0;34m(\u001b[0m\u001b[0mself\u001b[0m\u001b[0;34m,\u001b[0m \u001b[0mindex\u001b[0m\u001b[0;34m:\u001b[0m \u001b[0mint\u001b[0m\u001b[0;34m)\u001b[0m \u001b[0;34m->\u001b[0m \u001b[0mtuple\u001b[0m\u001b[0;34m[\u001b[0m\u001b[0mAny\u001b[0m\u001b[0;34m,\u001b[0m \u001b[0mAny\u001b[0m\u001b[0;34m]\u001b[0m\u001b[0;34m:\u001b[0m\u001b[0;34m\u001b[0m\u001b[0;34m\u001b[0m\u001b[0m\n",
            "\u001b[0;32m/usr/local/lib/python3.12/dist-packages/torchvision/datasets/folder.py\u001b[0m in \u001b[0;36mfind_classes\u001b[0;34m(directory)\u001b[0m\n\u001b[1;32m     41\u001b[0m     \u001b[0mclasses\u001b[0m \u001b[0;34m=\u001b[0m \u001b[0msorted\u001b[0m\u001b[0;34m(\u001b[0m\u001b[0mentry\u001b[0m\u001b[0;34m.\u001b[0m\u001b[0mname\u001b[0m \u001b[0;32mfor\u001b[0m \u001b[0mentry\u001b[0m \u001b[0;32min\u001b[0m \u001b[0mos\u001b[0m\u001b[0;34m.\u001b[0m\u001b[0mscandir\u001b[0m\u001b[0;34m(\u001b[0m\u001b[0mdirectory\u001b[0m\u001b[0;34m)\u001b[0m \u001b[0;32mif\u001b[0m \u001b[0mentry\u001b[0m\u001b[0;34m.\u001b[0m\u001b[0mis_dir\u001b[0m\u001b[0;34m(\u001b[0m\u001b[0;34m)\u001b[0m\u001b[0;34m)\u001b[0m\u001b[0;34m\u001b[0m\u001b[0;34m\u001b[0m\u001b[0m\n\u001b[1;32m     42\u001b[0m     \u001b[0;32mif\u001b[0m \u001b[0;32mnot\u001b[0m \u001b[0mclasses\u001b[0m\u001b[0;34m:\u001b[0m\u001b[0;34m\u001b[0m\u001b[0;34m\u001b[0m\u001b[0m\n\u001b[0;32m---> 43\u001b[0;31m         \u001b[0;32mraise\u001b[0m \u001b[0mFileNotFoundError\u001b[0m\u001b[0;34m(\u001b[0m\u001b[0;34mf\"Couldn't find any class folder in {directory}.\"\u001b[0m\u001b[0;34m)\u001b[0m\u001b[0;34m\u001b[0m\u001b[0;34m\u001b[0m\u001b[0m\n\u001b[0m\u001b[1;32m     44\u001b[0m \u001b[0;34m\u001b[0m\u001b[0m\n\u001b[1;32m     45\u001b[0m     \u001b[0mclass_to_idx\u001b[0m \u001b[0;34m=\u001b[0m \u001b[0;34m{\u001b[0m\u001b[0mcls_name\u001b[0m\u001b[0;34m:\u001b[0m \u001b[0mi\u001b[0m \u001b[0;32mfor\u001b[0m \u001b[0mi\u001b[0m\u001b[0;34m,\u001b[0m \u001b[0mcls_name\u001b[0m \u001b[0;32min\u001b[0m \u001b[0menumerate\u001b[0m\u001b[0;34m(\u001b[0m\u001b[0mclasses\u001b[0m\u001b[0;34m)\u001b[0m\u001b[0;34m}\u001b[0m\u001b[0;34m\u001b[0m\u001b[0;34m\u001b[0m\u001b[0m\n",
            "\u001b[0;31mFileNotFoundError\u001b[0m: Couldn't find any class folder in /content/drive/MyDrive/ML_Data/leedsbutterfly/images."
          ]
        }
      ]
    },
    {
      "cell_type": "markdown",
      "metadata": {
        "id": "3a4b58c4"
      },
      "source": [
        "**Reasoning**:\n",
        "The previous attempt failed because `ImageFolder` requires the images to be organized in subfolders, where each subfolder represents a class. The error indicates that there are no such class folders in the specified path. To fix this, I need to inspect the contents of the directory to understand its structure and potentially reorganize the data or use a different method to load the images if they are not in class subfolders.\n",
        "\n"
      ]
    },
    {
      "cell_type": "code",
      "metadata": {
        "colab": {
          "base_uri": "https://localhost:8080/"
        },
        "id": "SnMIZPNuaisZ",
        "outputId": "df2d7c66-0ae5-43aa-8cf8-0f97557e258e"
      },
      "source": [
        "import os\n",
        "\n",
        "# List the contents of the directory to understand its structure\n",
        "print(os.listdir(path))"
      ],
      "execution_count": null,
      "outputs": [
        {
          "output_type": "stream",
          "name": "stdout",
          "text": [
            "['0010021.png', '0010024.png', '0010018.png', '0010027.png', '0010029.png', '0010041.png', '0010008.png', '0010047.png', '0010009.png', '0010050.png', '0010023.png', '0010045.png', '0010034.png', '0010046.png', '0010031.png', '0010010.png', '0010051.png', '0010038.png', '0010044.png', '0010017.png', '0010040.png', '0010011.png', '0010014.png', '0010022.png', '0010012.png', '0010006.png', '0010053.png', '0010043.png', '0010037.png', '0010039.png', '0010001.png', '0010015.png', '0010002.png', '0010019.png', '0010013.png', '0010052.png', '0010042.png', '0010035.png', '0010049.png', '0010048.png', '0010026.png', '0010005.png', '0010004.png', '0010028.png', '0010033.png', '0010020.png', '0010036.png', '0010007.png', '0010032.png', '0010030.png', '0010025.png', '0020071.png', '0020020.png', '0010059.png', '0020061.png', '0010074.png', '0010079.png', '0020082.png', '0010058.png', '0020058.png', '0010068.png', '0020070.png', '0020081.png', '0010072.png', '0020110.png', '0010083.png', '0020042.png', '0010084.png', '0010065.png', '0020128.png', '0020041.png', '0020085.png', '0020104.png', '0010063.png', '0010064.png', '0020023.png', '0020027.png', '0020026.png', '0020052.png', '0020076.png', '0020017.png', '0020064.png', '0020087.png', '0020121.png', '0020004.png', '0020120.png', '0010057.png', '0010067.png', '0020091.png', '0020112.png', '0020072.png', '0020034.png', '0010066.png', '0010069.png', '0020078.png', '0020039.png', '0020046.png', '0020003.png', '0020015.png', '0020057.png', '0020098.png', '0010085.png', '0020095.png', '0020016.png', '0020021.png', '0020060.png', '0010077.png', '0010078.png', '0020105.png', '0020008.png', '0010086.png', '0020031.png', '0020050.png', '0020030.png', '0020119.png', '0020055.png', '0020073.png', '0010061.png', '0020115.png', '0010073.png', '0010060.png', '0020101.png', '0020133.png', '0020033.png', '0020092.png', '0020111.png', '0010070.png', '0020037.png', '0010071.png', '0010062.png', '0010075.png', '0020125.png', '0020088.png', '0020096.png', '0020074.png', '0020117.png', '0020063.png', '0010076.png', '0010056.png', '0020028.png', '0020040.png', '0020054.png', '0010055.png', '0010082.png', '0020044.png', '0010054.png', '0020024.png', '0040015.png', '0020186.png', '0020136.png', '0030053.png', '0020161.png', '0020176.png', '0040042.png', '0020164.png', '0020154.png', '0030060.png', '0030008.png', '0040001.png', '0040013.png', '0030034.png', '0040017.png', '0030021.png', '0030015.png', '0020146.png', '0030045.png', '0030041.png', '0020155.png', '0030026.png', '0020135.png', '0030032.png', '0020175.png', '0030037.png', '0030003.png', '0030011.png', '0030062.png', '0030014.png', '0030036.png', '0030059.png', '0040010.png', '0030052.png', '0020168.png', '0030012.png', '0020171.png', '0030042.png', '0030005.png', '0030024.png', '0030051.png', '0020169.png', '0030033.png', '0040047.png', '0020141.png', '0020174.png', '0030006.png', '0040009.png', '0020181.png', '0020143.png', '0040045.png', '0030009.png', '0030010.png', '0020144.png', '0030023.png', '0030001.png', '0020139.png', '0030016.png', '0030020.png', '0030004.png', '0040033.png', '0020159.png', '0030061.png', '0030058.png', '0030040.png', '0040034.png', '0040038.png', '0030030.png', '0040003.png', '0030013.png', '0030018.png', '0040031.png', '0030017.png', '0020151.png', '0030054.png', '0030048.png', '0030046.png', '0030002.png', '0020145.png', '0030022.png', '0020138.png', '0040018.png', '0030044.png', '0040035.png', '0040019.png', '0030029.png', '0030057.png', '0030043.png', '0030038.png', '0030055.png', '0030027.png', '0030035.png', '0020147.png', '0020167.png', '0040046.png', '0030056.png', '0030050.png', '0040002.png', '0030025.png', '0020142.png', '0030049.png', '0020153.png', '0040022.png', '0040024.png', '0020160.png', '0040037.png', '0030047.png', '0030028.png', '0040044.png', '0030031.png', '0040036.png', '0030007.png', '0030039.png', '0040030.png', '0050044.png', '0040087.png', '0040142.png', '0050006 (1).png', '0050008 (1).png', '0040158 (1).png', '0050030.png', '0040073.png', '0040111.png', '0050034.png', '0040058.png', '0050043.png', '0040095.png', '0050013.png', '0040130.png', '0040104.png', '0050006.png', '0040051.png', '0050004 (1).png', '0050015.png', '0050046.png', '0050001.png', '0050002 (1).png', '0040170.png', '0050049.png', '0040055.png', '0040159 (1).png', '0050054.png', '0040146 (1).png', '0050042.png', '0040157 (1).png', '0040158.png', '0050014.png', '0040143.png', '0040128.png', '0040157.png', '0050045.png', '0040133.png', '0050022.png', '0050026.png', '0050003 (1).png', '0050036.png', '0050039.png', '0040048.png', '0040138.png', '0040088.png', '0050003.png', '0050038.png', '0040078.png', '0050032.png', '0040134.png', '0040145 (1).png', '0050005 (1).png', '0040065.png', '0040168.png', '0050057.png', '0050007 (1).png', '0040149 (1).png', '0050023.png', '0040141.png', '0040149.png', '0040164.png', '0040062.png', '0040074.png', '0050024.png', '0050025.png', '0040155 (1).png', '0040052.png', '0040121.png', '0040069.png', '0040117.png', '0040155.png', '0040119.png', '0040098.png', '0050005.png', '0050007.png', '0050052.png', '0040146.png', '0040068.png', '0040152 (1).png', '0040159.png', '0050027.png', '0040066.png', '0050048.png', '0050009 (1).png', '0040113.png', '0050056.png', '0050012.png', '0040061.png', '0040120.png', '0040110.png', '0050008.png', '0040057.png', '0050028.png', '0040145.png', '0040161.png', '0050011.png', '0040089.png', '0050050.png', '0040084.png', '0050019.png', '0040144 (1).png', '0050020.png', '0050029.png', '0050009.png', '0050037.png', '0040169.png', '0050035.png', '0050055.png', '0050051.png', '0050041.png', '0040105.png', '0050004.png', '0050016.png', '0050040.png', '0050021.png', '0040049.png', '0040114.png', '0040071.png', '0040070.png', '0050002.png', '0040064.png', '0050010 (1).png', '0050010.png', '0050047.png', '0040056.png', '0040144.png', '0040102.png', '0040124.png', '0040099.png', '0040152.png', '0050018.png', '0050031.png', '0040127.png', '0050058.png', '0040136.png', '0040082.png', '0040122.png', '0060086.png', '0060091.png', '0050060.png', '0060054.png', '0060139.png', '0050076.png', '0050074.png', '0060045.png', '0060146.png', '0060151.png', '0050082.png', '0050091.png', '0060009.png', '0060108.png', '0060048.png', '0060107.png', '0060030.png', '0060136.png', '0060093.png', '0060157.png', '0060080.png', '0060084.png', '0050066.png', '0060131.png', '0060087.png', '0050065.png', '0060100.png', '0060043.png', '0060115.png', '0050075.png', '0060120.png', '0060142.png', '0060160.png', '0050059.png', '0050083.png', '0060041.png', '0060094.png', '0060063.png', '0060074.png', '0060059.png', '0060023.png', '0060163.png', '0060128.png', '0050072.png', '0050086.png', '0060117.png', '0060072.png', '0060138.png', '0060025.png', '0050078.png', '0050079.png', '0060047.png', '0060092.png', '0050088.png', '0060126.png', '0060105.png', '0050073.png', '0050069.png', '0050063.png', '0050081.png', '0050061.png', '0060056.png', '0060113.png', '0060038.png', '0060049.png', '0060127.png', '0060036.png', '0060029.png', '0060118.png', '0060050.png', '0060159.png', '0060026.png', '0060125.png', '0060152.png', '0060153.png', '0060039.png', '0050080.png', '0050067.png', '0050070.png', '0050084.png', '0060088.png', '0060037.png', '0060147.png', '0060021.png', '0050089.png', '0050064.png', '0050062.png', '0050071.png', '0050087.png', '0060129.png', '0060097.png', '0060034.png', '0060046.png', '0060007.png', '0050077.png', '0060150.png', '0060077.png', '0050068.png', '0060098.png', '0060145.png', '0060154.png', '0060123.png', '0060106.png', '0050085.png', '0050090.png', '0070072.png', '0070075.png', '0060206.png', '0070085.png', '0070088.png', '0070016.png', '0060228.png', '0070024.png', '0070069.png', '0070050.png', '0060177.png', '0060200.png', '0070081.png', '0060212.png', '0060180.png', '0070014.png', '0070043.png', '0060175.png', '0060224.png', '0070082.png', '0070026.png', '0070010.png', '0070033.png', '0070063.png', '0070038.png', '0060188.png', '0060171.png', '0070046.png', '0060218.png', '0070092.png', '0060172.png', '0070020.png', '0070001.png', '0070030.png', '0070057.png', '0070066.png', '0070004.png', '0060164.png', '0070045.png', '0070008.png', '0070083.png', '0060209.png', '0070012.png', '0070065.png', '0070055.png', '0070039.png', '0060183.png', '0070053.png', '0070052.png', '0070064.png', '0060204.png', '0070027.png', '0060179.png', '0070086.png', '0070080.png', '0070029.png', '0070098.png', '0060186.png', '0070007.png', '0060193.png', '0070079.png', '0070101.png', '0070032.png', '0070099.png', '0070074.png', '0070044.png', '0070056.png', '0070005.png', '0060185.png', '0070096.png', '0060195.png', '0070025.png', '0060214.png', '0070019.png', '0070100.png', '0070076.png', '0070059.png', '0070017.png', '0070094.png', '0070078.png', '0070093.png', '0070061.png', '0070034.png', '0070011.png', '0070047.png', '0060197.png', '0070097.png', '0070060.png', '0060194.png', '0070062.png', '0070006.png', '0070068.png', '0060217.png', '0070036.png', '0060166.png', '0060198.png', '0070003.png', '0070022.png', '0070037.png', '0060199.png', '0070084.png', '0090065.png', '0080030.png', '0080024.png', '0070114.png', '0080022.png', '0070115.png', '0090022.png', '0080044.png', '0080009.png', '0080042.png', '0080035.png', '0080025.png', '0070111.png', '0080012.png', '0080028.png', '0080016.png', '0090084.png', '0080037.png', '0080048.png', '0080003.png', '0090028.png', '0080036.png', '0080010.png', '0090014.png', '0080050.png', '0080054.png', '0080059.png', '0090049.png', '0080001.png', '0080005.png', '0080002.png', '0090011.png', '0070124.png', '0090013.png', '0070112.png', '0090053.png', '0080014.png', '0080021.png', '0080053.png', '0080013.png', '0080034.png', '0080008.png', '0070105.png', '0070117.png', '0080004.png', '0090027.png', '0090032.png', '0090024.png', '0090006.png', '0080041.png', '0090054.png', '0070121.png', '0080040.png', '0090044.png', '0080057.png', '0080007.png', '0080049.png', '0090001.png', '0090087.png', '0080055.png', '0090060.png', '0070102.png', '0080032.png', '0080029.png', '0090041.png', '0090038.png', '0080047.png', '0080051.png', '0070123.png', '0080018.png', '0080058.png', '0080006.png', '0090076.png', '0090069.png', '0080027.png', '0080020.png', '0080017.png', '0090039.png', '0070108.png', '0080019.png', '0080052.png', '0070104.png', '0070106.png', '0090088.png', '0090010.png', '0090067.png', '0070110.png', '0090078.png', '0080043.png', '0080038.png', '0080045.png', '0080039.png', '0090061.png', '0080026.png', '0090086.png', '0080031.png', '0070107.png', '0080046.png', '0070103.png', '0090033.png', '0080033.png', '0090062.png', '0090122.png', '0090160.png', '0100041.png', '0090140.png', '0090182.png', '0100023.png', '0090165.png', '0100130.png', '0100020.png', '0090162.png', '0090177.png', '0090127.png', '0090100.png', '0100120.png', '0100031.png', '0100008.png', '0090175.png', '0100111.png', '0100091.png', '0100005.png', '0100003.png', '0090114.png', '0100115.png', '0100058.png', '0100096.png', '0100006.png', '0100089.png', '0090109.png', '0100079.png', '0100024.png', '0100077.png', '0100119.png', '0090225.png', '0100097.png', '0100086.png', '0100122.png', '0090092.png', '0090132.png', '0100034.png', '0090204.png', '0090134.png', '0090126.png', '0100037.png', '0100126.png', '0100044.png', '0100045.png', '0090130.png', '0090110.png', '0090119.png', '0090136.png', '0090180.png', '0090143.png', '0100054.png', '0100093.png', '0090145.png', '0090125.png', '0090226.png', '0090223.png', '0090146.png', '0090221.png', '0090117.png', '0090096.png', '0100016.png', '0090115.png', '0090215.png', '0090118.png', '0100113.png', '0090116.png', '0090201.png', '0100072.png', '0090135.png', '0100022.png', '0090212.png', '0100092.png', '0100018.png', '0090105.png', '0090098.png', '0090219.png', '0100012.png', '0100128.png', '0090129.png', '0100110.png', '0090176.png', '0100028.png', '0100123.png', '0090103.png', '0100107.png', '0100067.png', '0090191.png', '0100036.png', '0090107.png', '0090123.png', '0100099.png', '0100042.png', '0100039.png', '0100082.png', '0100047.png', '0090184.png', '0090097.png', '0090178.png', '0090152.png', '0100124.png', '0100025.png', '0100050.png', '0100029.png', '0090099.png', '0090147.png', '0100030.png', '0100019.png', '0100009.png', '0090144.png', '0100051.png', '0090203.png', '0090156.png', '0090157.png', '0090188.png', '0100038.png', '0100162.png', '0100157.png', '0100134.png', '0100175.png', '0100163.png', '0100145.png', '0100136.png', '0100133.png', '0100148.png', '0100160.png', '0100153.png', '0100150.png', '0100137.png', '0100166.png', '0100143.png', '0100151.png', '0100155.png', '0100173.png', '0100154.png', '0100147.png', '0100149.png', '0100165.png', '0100176.png', '0100132.png', '0100171.png', '0100172.png']\n"
          ]
        }
      ]
    },
    {
      "cell_type": "markdown",
      "metadata": {
        "id": "d5c1be5d"
      },
      "source": [
        "**Reasoning**:\n",
        "The previous output shows that the images are directly in the specified directory, not in class-specific subfolders as required by `ImageFolder`. The filenames appear to follow a pattern where the first three digits might represent the class. To load and label the data correctly, I need to manually create a dataset class that reads the images and extracts the class label from the filename.\n",
        "\n"
      ]
    },
    {
      "cell_type": "code",
      "metadata": {
        "colab": {
          "base_uri": "https://localhost:8080/"
        },
        "id": "5f0523a4",
        "outputId": "f9b31506-cde4-4d8c-a381-f5947610fe56"
      },
      "source": [
        "from torch.utils.data import Dataset\n",
        "from PIL import Image\n",
        "import os\n",
        "\n",
        "class ButterflyDataset(Dataset):\n",
        "    def __init__(self, image_dir, transform=None):\n",
        "        self.image_dir = image_dir\n",
        "        self.transform = transform\n",
        "        self.image_filenames = [f for f in os.listdir(image_dir) if f.endswith('.png')]\n",
        "        self.classes = sorted(list(set([filename[:3] for filename in self.image_filenames])))\n",
        "        self.class_to_idx = {cls: i for i, cls in enumerate(self.classes)}\n",
        "\n",
        "    def __len__(self):\n",
        "        return len(self.image_filenames)\n",
        "\n",
        "    def __getitem__(self, idx):\n",
        "        img_name = os.path.join(self.image_dir, self.image_filenames[idx])\n",
        "        image = Image.open(img_name).convert('RGB')\n",
        "        label = self.class_to_idx[self.image_filenames[idx][:3]]\n",
        "\n",
        "        if self.transform:\n",
        "            image = self.transform(image)\n",
        "\n",
        "        return image, label\n",
        "\n",
        "# 1. Define the image transformations\n",
        "transform = transforms.Compose([\n",
        "    transforms.Resize((128, 128)),  # Resize images to 128x128\n",
        "    transforms.ToTensor(),         # Convert images to PyTorch tensors\n",
        "    transforms.Normalize(mean=[0.485, 0.456, 0.406], std=[0.229, 0.224, 0.225]) # Normalize\n",
        "])\n",
        "\n",
        "# 2. Load the dataset using the custom class\n",
        "dataset = ButterflyDataset(image_dir=path, transform=transform)\n",
        "\n",
        "# 4. Split the dataset into training and testing sets\n",
        "train_size = int(0.8 * len(dataset))\n",
        "test_size = len(dataset) - train_size\n",
        "train_dataset, test_dataset = random_split(dataset, [train_size, test_size])\n",
        "\n",
        "# 5. Create separate DataLoader objects for the training and testing sets\n",
        "train_dataloader = DataLoader(train_dataset, batch_size=32, shuffle=True)\n",
        "test_dataloader = DataLoader(test_dataset, batch_size=32, shuffle=False)\n",
        "\n",
        "print(f\"Number of training images: {len(train_dataset)}\")\n",
        "print(f\"Number of testing images: {len(test_dataset)}\")\n",
        "print(f\"Classes: {dataset.classes}\")"
      ],
      "execution_count": null,
      "outputs": [
        {
          "output_type": "stream",
          "name": "stdout",
          "text": [
            "Number of training images: 680\n",
            "Number of testing images: 170\n",
            "Classes: ['001', '002', '003', '004', '005', '006', '007', '008', '009', '010']\n"
          ]
        }
      ]
    },
    {
      "cell_type": "markdown",
      "metadata": {
        "id": "fd1c4206"
      },
      "source": [
        "## Define the mlp model\n",
        "\n",
        "### Subtask:\n",
        "Define the architecture of the Multi-Layer Perceptron (MLP) model using PyTorch.\n"
      ]
    },
    {
      "cell_type": "markdown",
      "metadata": {
        "id": "62214583"
      },
      "source": [
        "**Reasoning**:\n",
        "Define the architecture of the MLP model using PyTorch, including the layers and the forward pass.\n",
        "\n"
      ]
    },
    {
      "cell_type": "code",
      "metadata": {
        "colab": {
          "base_uri": "https://localhost:8080/"
        },
        "id": "1518a572",
        "outputId": "d75c485d-34b0-4eb4-cdb0-f82d403ac8e0"
      },
      "source": [
        "import torch.nn as nn\n",
        "\n",
        "class MLP(nn.Module):\n",
        "    def __init__(self, input_size, num_classes):\n",
        "        super(MLP, self).__init__()\n",
        "        self.fc1 = nn.Linear(input_size, 512)\n",
        "        self.relu = nn.ReLU()\n",
        "        self.fc2 = nn.Linear(512, 256)\n",
        "        self.fc3 = nn.Linear(256, num_classes)\n",
        "\n",
        "    def forward(self, x):\n",
        "        x = x.view(x.size(0), -1) # Flatten the image\n",
        "        x = self.fc1(x)\n",
        "        x = self.relu(x)\n",
        "        x = self.fc2(x)\n",
        "        x = self.relu(x)\n",
        "        x = self.fc3(x)\n",
        "        return x\n",
        "\n",
        "# Instantiate the model\n",
        "input_size = 128 * 128 * 3\n",
        "num_classes = len(dataset.classes)\n",
        "model = MLP(input_size, num_classes)\n",
        "\n",
        "print(model)"
      ],
      "execution_count": null,
      "outputs": [
        {
          "output_type": "stream",
          "name": "stdout",
          "text": [
            "MLP(\n",
            "  (fc1): Linear(in_features=49152, out_features=512, bias=True)\n",
            "  (relu): ReLU()\n",
            "  (fc2): Linear(in_features=512, out_features=256, bias=True)\n",
            "  (fc3): Linear(in_features=256, out_features=10, bias=True)\n",
            ")\n"
          ]
        }
      ]
    },
    {
      "cell_type": "markdown",
      "metadata": {
        "id": "f332defb"
      },
      "source": [
        "## Define loss function and optimizer\n",
        "\n",
        "### Subtask:\n",
        "Choose an appropriate loss function and optimizer for multi-class classification.\n"
      ]
    },
    {
      "cell_type": "markdown",
      "metadata": {
        "id": "b7761845"
      },
      "source": [
        "**Reasoning**:\n",
        "Choose and instantiate an appropriate loss function and optimizer for multi-class classification in PyTorch.\n",
        "\n"
      ]
    },
    {
      "cell_type": "code",
      "metadata": {
        "colab": {
          "base_uri": "https://localhost:8080/"
        },
        "id": "8a6269d3",
        "outputId": "dc16615f-30f2-49b3-e1de-ee8746e28a0f"
      },
      "source": [
        "import torch.optim as optim\n",
        "\n",
        "# 1. Choose an appropriate loss function for multi-class classification.\n",
        "# Cross-Entropy Loss is suitable for multi-class classification problems.\n",
        "criterion = nn.CrossEntropyLoss()\n",
        "\n",
        "# 2. Choose an appropriate optimizer for training the neural network.\n",
        "# Adam is a commonly used and effective optimizer.\n",
        "optimizer = optim.Adam(model.parameters(), lr=0.001)\n",
        "\n",
        "print(f\"Loss function: {criterion}\")\n",
        "print(f\"Optimizer: {optimizer}\")"
      ],
      "execution_count": null,
      "outputs": [
        {
          "output_type": "stream",
          "name": "stdout",
          "text": [
            "Loss function: CrossEntropyLoss()\n",
            "Optimizer: Adam (\n",
            "Parameter Group 0\n",
            "    amsgrad: False\n",
            "    betas: (0.9, 0.999)\n",
            "    capturable: False\n",
            "    decoupled_weight_decay: False\n",
            "    differentiable: False\n",
            "    eps: 1e-08\n",
            "    foreach: None\n",
            "    fused: None\n",
            "    lr: 0.001\n",
            "    maximize: False\n",
            "    weight_decay: 0\n",
            ")\n"
          ]
        }
      ]
    },
    {
      "cell_type": "markdown",
      "metadata": {
        "id": "9e01c60f"
      },
      "source": [
        "## Train the mlp model\n",
        "\n",
        "### Subtask:\n",
        "Train the MLP model on the training data and monitor its performance.\n"
      ]
    },
    {
      "cell_type": "markdown",
      "metadata": {
        "id": "d9cf5edf"
      },
      "source": [
        "**Reasoning**:\n",
        "Train the MLP model for a specified number of epochs, iterating through the training data, calculating the loss, performing backpropagation, and updating the weights. Print the average training loss for each epoch.\n",
        "\n"
      ]
    },
    {
      "cell_type": "code",
      "metadata": {
        "colab": {
          "base_uri": "https://localhost:8080/"
        },
        "id": "ec880eec",
        "outputId": "1543807c-ba82-466f-d09c-74962d5d601e"
      },
      "source": [
        "num_epochs = 10  # Define the number of training epochs\n",
        "\n",
        "for epoch in range(num_epochs):\n",
        "    model.train()  # Set the model to training mode\n",
        "    running_loss = 0.0\n",
        "\n",
        "    for inputs, labels in train_dataloader:\n",
        "        # Zero the parameter gradients\n",
        "        optimizer.zero_grad()\n",
        "\n",
        "        # Forward pass\n",
        "        outputs = model(inputs)\n",
        "        loss = criterion(outputs, labels)\n",
        "\n",
        "        # Backward pass and optimize\n",
        "        loss.backward()\n",
        "        optimizer.step()\n",
        "\n",
        "        # Accumulate the loss\n",
        "        running_loss += loss.item() * inputs.size(0)\n",
        "\n",
        "    # Calculate average training loss for the epoch\n",
        "    epoch_loss = running_loss / len(train_dataset)\n",
        "    print(f'Epoch [{epoch+1}/{num_epochs}], Loss: {epoch_loss:.4f}')\n",
        "\n",
        "print('Finished Training')\n",
        "\n",
        "# Optional: Save the model state dictionary\n",
        "# torch.save(model.state_dict(), 'mlp_butterfly_model.pth')"
      ],
      "execution_count": null,
      "outputs": [
        {
          "output_type": "stream",
          "name": "stdout",
          "text": [
            "Epoch [1/10], Loss: 7.1879\n",
            "Epoch [2/10], Loss: 2.4526\n",
            "Epoch [3/10], Loss: 1.0117\n",
            "Epoch [4/10], Loss: 0.7067\n",
            "Epoch [5/10], Loss: 0.3117\n",
            "Epoch [6/10], Loss: 0.2059\n",
            "Epoch [7/10], Loss: 0.2940\n",
            "Epoch [8/10], Loss: 0.1661\n",
            "Epoch [9/10], Loss: 0.6898\n",
            "Epoch [10/10], Loss: 0.3032\n",
            "Finished Training\n"
          ]
        }
      ]
    },
    {
      "cell_type": "markdown",
      "metadata": {
        "id": "310626bc"
      },
      "source": [
        "## Evaluate the mlp model\n",
        "\n",
        "### Subtask:\n",
        "Evaluate the trained MLP model on the testing data and calculate metrics like accuracy, precision, recall, and F1-score.\n"
      ]
    },
    {
      "cell_type": "markdown",
      "metadata": {
        "id": "4b5bc484"
      },
      "source": [
        "**Reasoning**:\n",
        "Evaluate the trained MLP model on the test data and calculate various metrics.\n",
        "\n"
      ]
    },
    {
      "cell_type": "code",
      "metadata": {
        "colab": {
          "base_uri": "https://localhost:8080/",
          "height": 385
        },
        "id": "17489eaf",
        "outputId": "d3957eb9-1bb6-4de1-ce25-99506ead477a"
      },
      "source": [
        "from sklearn.metrics import precision_recall_f1_score\n",
        "import numpy as np\n",
        "\n",
        "# 1. Set the model to evaluation mode\n",
        "model.eval()\n",
        "\n",
        "# 2. Initialize variables\n",
        "correct_predictions = 0\n",
        "total_predictions = 0\n",
        "true_labels = []\n",
        "predicted_labels = []\n",
        "\n",
        "# Disable gradient calculation for evaluation\n",
        "with torch.no_grad():\n",
        "    # 4. Iterate through the test_dataloader\n",
        "    for inputs, labels in test_dataloader:\n",
        "        # a. Get the inputs and labels\n",
        "\n",
        "        # b. Pass the inputs through the model\n",
        "        outputs = model(inputs)\n",
        "\n",
        "        # c. Get the predicted class\n",
        "        _, predicted = torch.max(outputs.data, 1)\n",
        "\n",
        "        # d. Update counts\n",
        "        total_predictions += labels.size(0)\n",
        "        correct_predictions += (predicted == labels).sum().item()\n",
        "\n",
        "        # e. Extend true labels list\n",
        "        true_labels.extend(labels.cpu().numpy())\n",
        "\n",
        "        # f. Extend predicted labels list\n",
        "        predicted_labels.extend(predicted.cpu().numpy())\n",
        "\n",
        "# 5. Calculate overall accuracy\n",
        "accuracy = correct_predictions / total_predictions\n",
        "\n",
        "# 6. Calculate precision, recall, and F1-score\n",
        "precision, recall, f1, _ = precision_recall_f1_score(true_labels, predicted_labels, average='weighted', zero_division=0)\n",
        "\n",
        "# 7. Print the results\n",
        "print(f'Accuracy: {accuracy:.4f}')\n",
        "print(f'Precision (weighted): {precision:.4f}')\n",
        "print(f'Recall (weighted): {recall:.4f}')\n",
        "print(f'F1-score (weighted): {f1:.4f}')"
      ],
      "execution_count": null,
      "outputs": [
        {
          "output_type": "error",
          "ename": "ImportError",
          "evalue": "cannot import name 'precision_recall_f1_score' from 'sklearn.metrics' (/usr/local/lib/python3.12/dist-packages/sklearn/metrics/__init__.py)",
          "traceback": [
            "\u001b[0;31m---------------------------------------------------------------------------\u001b[0m",
            "\u001b[0;31mImportError\u001b[0m                               Traceback (most recent call last)",
            "\u001b[0;32m/tmp/ipython-input-2761826569.py\u001b[0m in \u001b[0;36m<cell line: 0>\u001b[0;34m()\u001b[0m\n\u001b[0;32m----> 1\u001b[0;31m \u001b[0;32mfrom\u001b[0m \u001b[0msklearn\u001b[0m\u001b[0;34m.\u001b[0m\u001b[0mmetrics\u001b[0m \u001b[0;32mimport\u001b[0m \u001b[0mprecision_recall_f1_score\u001b[0m\u001b[0;34m\u001b[0m\u001b[0;34m\u001b[0m\u001b[0m\n\u001b[0m\u001b[1;32m      2\u001b[0m \u001b[0;32mimport\u001b[0m \u001b[0mnumpy\u001b[0m \u001b[0;32mas\u001b[0m \u001b[0mnp\u001b[0m\u001b[0;34m\u001b[0m\u001b[0;34m\u001b[0m\u001b[0m\n\u001b[1;32m      3\u001b[0m \u001b[0;34m\u001b[0m\u001b[0m\n\u001b[1;32m      4\u001b[0m \u001b[0;31m# 1. Set the model to evaluation mode\u001b[0m\u001b[0;34m\u001b[0m\u001b[0;34m\u001b[0m\u001b[0m\n\u001b[1;32m      5\u001b[0m \u001b[0mmodel\u001b[0m\u001b[0;34m.\u001b[0m\u001b[0meval\u001b[0m\u001b[0;34m(\u001b[0m\u001b[0;34m)\u001b[0m\u001b[0;34m\u001b[0m\u001b[0;34m\u001b[0m\u001b[0m\n",
            "\u001b[0;31mImportError\u001b[0m: cannot import name 'precision_recall_f1_score' from 'sklearn.metrics' (/usr/local/lib/python3.12/dist-packages/sklearn/metrics/__init__.py)",
            "",
            "\u001b[0;31m---------------------------------------------------------------------------\u001b[0;32m\nNOTE: If your import is failing due to a missing package, you can\nmanually install dependencies using either !pip or !apt.\n\nTo view examples of installing some common dependencies, click the\n\"Open Examples\" button below.\n\u001b[0;31m---------------------------------------------------------------------------\u001b[0m\n"
          ],
          "errorDetails": {
            "actions": [
              {
                "action": "open_url",
                "actionText": "Open Examples",
                "url": "/notebooks/snippets/importing_libraries.ipynb"
              }
            ]
          }
        }
      ]
    },
    {
      "cell_type": "markdown",
      "metadata": {
        "id": "21f2c37b"
      },
      "source": [
        "**Reasoning**:\n",
        "The previous command failed because `precision_recall_f1_score` was not found in `sklearn.metrics`. This is likely a version issue. I will try importing `precision_score`, `recall_score`, and `f1_score` separately and calculate the weighted average using those.\n",
        "\n"
      ]
    },
    {
      "cell_type": "code",
      "metadata": {
        "colab": {
          "base_uri": "https://localhost:8080/"
        },
        "id": "js0-epHTb0CW",
        "outputId": "873a9d41-875d-455e-9c74-064e7af5b637"
      },
      "source": [
        "from sklearn.metrics import precision_score, recall_score, f1_score\n",
        "import numpy as np\n",
        "\n",
        "# 1. Set the model to evaluation mode\n",
        "model.eval()\n",
        "\n",
        "# 2. Initialize variables\n",
        "correct_predictions = 0\n",
        "total_predictions = 0\n",
        "true_labels = []\n",
        "predicted_labels = []\n",
        "\n",
        "# Disable gradient calculation for evaluation\n",
        "with torch.no_grad():\n",
        "    # 4. Iterate through the test_dataloader\n",
        "    for inputs, labels in test_dataloader:\n",
        "        # a. Get the inputs and labels\n",
        "\n",
        "        # b. Pass the inputs through the model\n",
        "        outputs = model(inputs)\n",
        "\n",
        "        # c. Get the predicted class\n",
        "        _, predicted = torch.max(outputs.data, 1)\n",
        "\n",
        "        # d. Update counts\n",
        "        total_predictions += labels.size(0)\n",
        "        correct_predictions += (predicted == labels).sum().item()\n",
        "\n",
        "        # e. Extend true labels list\n",
        "        true_labels.extend(labels.cpu().numpy())\n",
        "\n",
        "        # f. Extend predicted labels list\n",
        "        predicted_labels.extend(predicted.cpu().numpy())\n",
        "\n",
        "# 5. Calculate overall accuracy\n",
        "accuracy = correct_predictions / total_predictions\n",
        "\n",
        "# 6. Calculate precision, recall, and F1-score\n",
        "precision = precision_score(true_labels, predicted_labels, average='weighted', zero_division=0)\n",
        "recall = recall_score(true_labels, predicted_labels, average='weighted', zero_division=0)\n",
        "f1 = f1_score(true_labels, predicted_labels, average='weighted', zero_division=0)\n",
        "\n",
        "# 7. Print the results\n",
        "print(f'Accuracy: {accuracy:.4f}')\n",
        "print(f'Precision (weighted): {precision:.4f}')\n",
        "print(f'Recall (weighted): {recall:.4f}')\n",
        "print(f'F1-score (weighted): {f1:.4f}')"
      ],
      "execution_count": null,
      "outputs": [
        {
          "output_type": "stream",
          "name": "stdout",
          "text": [
            "Accuracy: 0.4176\n",
            "Precision (weighted): 0.4087\n",
            "Recall (weighted): 0.4176\n",
            "F1-score (weighted): 0.3971\n"
          ]
        }
      ]
    },
    {
      "cell_type": "markdown",
      "metadata": {
        "id": "7d0665f7"
      },
      "source": [
        "## Tune hyperparameters for mlp\n",
        "\n",
        "### Subtask:\n",
        "Experiment with different hyperparameters (learning rate, batch size, number of layers, etc.) to optimize the MLP model's performance.\n"
      ]
    },
    {
      "cell_type": "markdown",
      "metadata": {
        "id": "ca46755b"
      },
      "source": [
        "**Reasoning**:\n",
        "I need to experiment with different hyperparameters to optimize the MLP model's performance. I will define a list of hyperparameter combinations to try, and then iterate through each combination, re-instantiate the model, define the optimizer and dataloaders, train the model, and evaluate it, storing the results.\n",
        "\n"
      ]
    },
    {
      "cell_type": "code",
      "metadata": {
        "colab": {
          "base_uri": "https://localhost:8080/"
        },
        "id": "ec90c915",
        "outputId": "c114400c-5ada-43a4-c1e5-846877a2c0ca"
      },
      "source": [
        "import torch\n",
        "import torch.nn as nn\n",
        "import torch.optim as optim\n",
        "from torch.utils.data import DataLoader, random_split\n",
        "from torchvision import transforms\n",
        "from sklearn.metrics import precision_score, recall_score, f1_score\n",
        "import numpy as np\n",
        "import os\n",
        "from PIL import Image\n",
        "\n",
        "# Define the custom dataset class again as it's needed for creating DataLoaders\n",
        "class ButterflyDataset(Dataset):\n",
        "    def __init__(self, image_dir, transform=None):\n",
        "        self.image_dir = image_dir\n",
        "        self.transform = transform\n",
        "        self.image_filenames = [f for f in os.listdir(image_dir) if f.endswith('.png')]\n",
        "        self.classes = sorted(list(set([filename[:3] for filename in self.image_filenames])))\n",
        "        self.class_to_idx = {cls: i for i, cls in enumerate(self.classes)}\n",
        "\n",
        "    def __len__(self):\n",
        "        return len(self.image_filenames)\n",
        "\n",
        "    def __getitem__(self, idx):\n",
        "        img_name = os.path.join(self.image_dir, self.image_filenames[idx])\n",
        "        image = Image.open(img_name).convert('RGB')\n",
        "        label = self.class_to_idx[self.image_filenames[idx][:3]]\n",
        "\n",
        "        if self.transform:\n",
        "            image = self.transform(image)\n",
        "\n",
        "        return image, label\n",
        "\n",
        "# Define the MLP model class again\n",
        "class MLP(nn.Module):\n",
        "    def __init__(self, input_size, num_classes, hidden_layers, neurons_per_layer):\n",
        "        super(MLP, self).__init__()\n",
        "        layers = []\n",
        "        current_input_size = input_size\n",
        "        for i in range(hidden_layers):\n",
        "            layers.append(nn.Linear(current_input_size, neurons_per_layer[i]))\n",
        "            layers.append(nn.ReLU())\n",
        "            current_input_size = neurons_per_layer[i]\n",
        "        layers.append(nn.Linear(current_input_size, num_classes))\n",
        "        self.network = nn.Sequential(*layers)\n",
        "\n",
        "    def forward(self, x):\n",
        "        x = x.view(x.size(0), -1) # Flatten the image\n",
        "        return self.network(x)\n",
        "\n",
        "\n",
        "# Define hyperparameter combinations to experiment with\n",
        "hyperparameters = [\n",
        "    {'learning_rate': 0.001, 'batch_size': 32, 'hidden_layers': 2, 'neurons_per_layer': [512, 256]},\n",
        "    {'learning_rate': 0.01, 'batch_size': 32, 'hidden_layers': 2, 'neurons_per_layer': [512, 256]},\n",
        "    {'learning_rate': 0.001, 'batch_size': 64, 'hidden_layers': 2, 'neurons_per_layer': [512, 256]},\n",
        "    {'learning_rate': 0.001, 'batch_size': 32, 'hidden_layers': 3, 'neurons_per_layer': [512, 256, 128]},\n",
        "    {'learning_rate': 0.001, 'batch_size': 32, 'hidden_layers': 2, 'neurons_per_layer': [256, 128]},\n",
        "]\n",
        "\n",
        "results = []\n",
        "num_epochs = 5  # Reduced epochs for faster experimentation\n",
        "\n",
        "# 1. Define the image transformations\n",
        "transform = transforms.Compose([\n",
        "    transforms.Resize((128, 128)),  # Resize images to 128x128\n",
        "    transforms.ToTensor(),         # Convert images to PyTorch tensors\n",
        "    transforms.Normalize(mean=[0.485, 0.456, 0.406], std=[0.229, 0.224, 0.225]) # Normalize\n",
        "])\n",
        "\n",
        "# 2. Load the dataset using the custom class\n",
        "dataset = ButterflyDataset(image_dir=path, transform=transform)\n",
        "\n",
        "# 4. Split the dataset into training and testing sets\n",
        "train_size = int(0.8 * len(dataset))\n",
        "test_size = len(dataset) - train_size\n",
        "train_dataset, test_dataset = random_split(dataset, [train_size, test_size])\n",
        "\n",
        "input_size = 128 * 128 * 3\n",
        "num_classes = len(dataset.classes)\n",
        "\n",
        "\n",
        "for hp in hyperparameters:\n",
        "    print(f\"Experimenting with: {hp}\")\n",
        "\n",
        "    # a. Re-instantiate the MLP model with the chosen architecture\n",
        "    model = MLP(input_size, num_classes, hp['hidden_layers'], hp['neurons_per_layer'])\n",
        "\n",
        "    # b. Define the loss function and optimizer with the chosen learning rate\n",
        "    criterion = nn.CrossEntropyLoss()\n",
        "    optimizer = optim.Adam(model.parameters(), lr=hp['learning_rate'])\n",
        "\n",
        "    # c. Create new DataLoaders with the chosen batch size\n",
        "    train_dataloader = DataLoader(train_dataset, batch_size=hp['batch_size'], shuffle=True)\n",
        "    test_dataloader = DataLoader(test_dataset, batch_size=hp['batch_size'], shuffle=False)\n",
        "\n",
        "    # d. Train the model on the training data for a fixed number of epochs\n",
        "    for epoch in range(num_epochs):\n",
        "        model.train()\n",
        "        running_loss = 0.0\n",
        "        for inputs, labels in train_dataloader:\n",
        "            optimizer.zero_grad()\n",
        "            outputs = model(inputs)\n",
        "            loss = criterion(outputs, labels)\n",
        "            loss.backward()\n",
        "            optimizer.step()\n",
        "            running_loss += loss.item() * inputs.size(0)\n",
        "        epoch_loss = running_loss / len(train_dataset)\n",
        "        # print(f'  Epoch [{epoch+1}/{num_epochs}], Loss: {epoch_loss:.4f}') # Optional: Print loss per epoch\n",
        "\n",
        "    print('  Finished Training')\n",
        "\n",
        "    # e. Evaluate the trained model on the testing data and record the evaluation metrics\n",
        "    model.eval()\n",
        "    correct_predictions = 0\n",
        "    total_predictions = 0\n",
        "    true_labels = []\n",
        "    predicted_labels = []\n",
        "\n",
        "    with torch.no_grad():\n",
        "        for inputs, labels in test_dataloader:\n",
        "            outputs = model(inputs)\n",
        "            _, predicted = torch.max(outputs.data, 1)\n",
        "            total_predictions += labels.size(0)\n",
        "            correct_predictions += (predicted == labels).sum().item()\n",
        "            true_labels.extend(labels.cpu().numpy())\n",
        "            predicted_labels.extend(predicted.cpu().numpy())\n",
        "\n",
        "    accuracy = correct_predictions / total_predictions\n",
        "    precision = precision_score(true_labels, predicted_labels, average='weighted', zero_division=0)\n",
        "    recall = recall_score(true_labels, predicted_labels, average='weighted', zero_division=0)\n",
        "    f1 = f1_score(true_labels, predicted_labels, average='weighted', zero_division=0)\n",
        "\n",
        "    print(f'  Accuracy: {accuracy:.4f}, Precision: {precision:.4f}, Recall: {recall:.4f}, F1-score: {f1:.4f}')\n",
        "\n",
        "    results.append({\n",
        "        'hyperparameters': hp,\n",
        "        'accuracy': accuracy,\n",
        "        'precision': precision,\n",
        "        'recall': recall,\n",
        "        'f1_score': f1\n",
        "    })\n",
        "\n",
        "# 3. Keep track of the performance metrics for each hyperparameter combination (done by appending to results list)\n",
        "\n",
        "# 4. After experimenting with several combinations, identify the set of hyperparameters that resulted in the best performance on the testing data.\n",
        "best_result = max(results, key=lambda x: x['f1_score']) # Using F1-score as the primary metric\n",
        "\n",
        "print(\"\\n--- Hyperparameter Experimentation Results ---\")\n",
        "for result in results:\n",
        "    print(f\"Hyperparameters: {result['hyperparameters']}, Metrics: Accuracy: {result['accuracy']:.4f}, Precision: {result['precision']:.4f}, Recall: {result['recall']:.4f}, F1-score: {result['f1_score']:.4f}\")\n",
        "\n",
        "print(f\"\\nBest Hyperparameters (based on F1-score): {best_result['hyperparameters']}\")\n",
        "print(f\"Best Performance: Accuracy: {best_result['accuracy']:.4f}, Precision: {best_result['precision']:.4f}, Recall: {best_result['recall']:.4f}, F1-score: {best_result['f1_score']:.4f}\")\n"
      ],
      "execution_count": null,
      "outputs": [
        {
          "output_type": "stream",
          "name": "stdout",
          "text": [
            "Experimenting with: {'learning_rate': 0.001, 'batch_size': 32, 'hidden_layers': 2, 'neurons_per_layer': [512, 256]}\n",
            "  Finished Training\n",
            "  Accuracy: 0.4235, Precision: 0.4301, Recall: 0.4235, F1-score: 0.4057\n",
            "Experimenting with: {'learning_rate': 0.01, 'batch_size': 32, 'hidden_layers': 2, 'neurons_per_layer': [512, 256]}\n",
            "  Finished Training\n",
            "  Accuracy: 0.1294, Precision: 0.2546, Recall: 0.1294, F1-score: 0.0812\n",
            "Experimenting with: {'learning_rate': 0.001, 'batch_size': 64, 'hidden_layers': 2, 'neurons_per_layer': [512, 256]}\n",
            "  Finished Training\n",
            "  Accuracy: 0.4412, Precision: 0.4698, Recall: 0.4412, F1-score: 0.4256\n",
            "Experimenting with: {'learning_rate': 0.001, 'batch_size': 32, 'hidden_layers': 3, 'neurons_per_layer': [512, 256, 128]}\n",
            "  Finished Training\n",
            "  Accuracy: 0.4647, Precision: 0.5274, Recall: 0.4647, F1-score: 0.4810\n",
            "Experimenting with: {'learning_rate': 0.001, 'batch_size': 32, 'hidden_layers': 2, 'neurons_per_layer': [256, 128]}\n",
            "  Finished Training\n",
            "  Accuracy: 0.4471, Precision: 0.4881, Recall: 0.4471, F1-score: 0.4555\n",
            "\n",
            "--- Hyperparameter Experimentation Results ---\n",
            "Hyperparameters: {'learning_rate': 0.001, 'batch_size': 32, 'hidden_layers': 2, 'neurons_per_layer': [512, 256]}, Metrics: Accuracy: 0.4235, Precision: 0.4301, Recall: 0.4235, F1-score: 0.4057\n",
            "Hyperparameters: {'learning_rate': 0.01, 'batch_size': 32, 'hidden_layers': 2, 'neurons_per_layer': [512, 256]}, Metrics: Accuracy: 0.1294, Precision: 0.2546, Recall: 0.1294, F1-score: 0.0812\n",
            "Hyperparameters: {'learning_rate': 0.001, 'batch_size': 64, 'hidden_layers': 2, 'neurons_per_layer': [512, 256]}, Metrics: Accuracy: 0.4412, Precision: 0.4698, Recall: 0.4412, F1-score: 0.4256\n",
            "Hyperparameters: {'learning_rate': 0.001, 'batch_size': 32, 'hidden_layers': 3, 'neurons_per_layer': [512, 256, 128]}, Metrics: Accuracy: 0.4647, Precision: 0.5274, Recall: 0.4647, F1-score: 0.4810\n",
            "Hyperparameters: {'learning_rate': 0.001, 'batch_size': 32, 'hidden_layers': 2, 'neurons_per_layer': [256, 128]}, Metrics: Accuracy: 0.4471, Precision: 0.4881, Recall: 0.4471, F1-score: 0.4555\n",
            "\n",
            "Best Hyperparameters (based on F1-score): {'learning_rate': 0.001, 'batch_size': 32, 'hidden_layers': 3, 'neurons_per_layer': [512, 256, 128]}\n",
            "Best Performance: Accuracy: 0.4647, Precision: 0.5274, Recall: 0.4647, F1-score: 0.4810\n"
          ]
        }
      ]
    },
    {
      "cell_type": "markdown",
      "metadata": {
        "id": "ddf98046"
      },
      "source": [
        "## (optional) define and train the cnn model\n",
        "\n",
        "### Subtask:\n",
        "If desired, define the architecture of a Convolutional Neural Network (CNN) model and train it on the dataset.\n"
      ]
    },
    {
      "cell_type": "markdown",
      "metadata": {
        "id": "c3926519"
      },
      "source": [
        "**Reasoning**:\n",
        "Define the architecture of a Convolutional Neural Network (CNN) model suitable for image classification, instantiate it, define the loss function and optimizer, and set up the training loop.\n",
        "\n"
      ]
    },
    {
      "cell_type": "code",
      "metadata": {
        "colab": {
          "base_uri": "https://localhost:8080/"
        },
        "id": "eb19a9ab",
        "outputId": "fccffd0e-5fde-40b0-ec2e-14b4f38a38dc"
      },
      "source": [
        "import torch.nn as nn\n",
        "import torch.optim as optim\n",
        "\n",
        "# 1. Define a CNN model architecture\n",
        "class CNN(nn.Module):\n",
        "    def __init__(self, num_classes=10):\n",
        "        super(CNN, self).__init__()\n",
        "        self.conv1 = nn.Conv2d(3, 32, kernel_size=3, padding=1)\n",
        "        self.relu = nn.ReLU()\n",
        "        self.pool = nn.MaxPool2d(kernel_size=2, stride=2)\n",
        "        self.conv2 = nn.Conv2d(32, 64, kernel_size=3, padding=1)\n",
        "        self.conv3 = nn.Conv2d(64, 128, kernel_size=3, padding=1)\n",
        "        self.fc1 = nn.Linear(128 * 16 * 16, 512) # Adjusted based on image size after pooling\n",
        "        self.fc2 = nn.Linear(512, num_classes)\n",
        "\n",
        "    def forward(self, x):\n",
        "        x = self.pool(self.relu(self.conv1(x)))\n",
        "        x = self.pool(self.relu(self.conv2(x)))\n",
        "        x = self.pool(self.relu(self.conv3(x)))\n",
        "        x = x.view(x.size(0), -1) # Flatten the output for the fully connected layer\n",
        "        x = self.relu(self.fc1(x))\n",
        "        x = self.fc2(x)\n",
        "        return x\n",
        "\n",
        "# 2. Instantiate the CNN model\n",
        "cnn_model = CNN(num_classes=len(dataset.classes))\n",
        "print(\"CNN Model Architecture:\")\n",
        "print(cnn_model)\n",
        "\n",
        "# 3. Define the loss function and an optimizer for the CNN model\n",
        "cnn_criterion = nn.CrossEntropyLoss()\n",
        "cnn_optimizer = optim.Adam(cnn_model.parameters(), lr=0.001)\n",
        "\n",
        "# 4. Train the CNN model\n",
        "num_epochs_cnn = 10  # Define the number of training epochs for CNN\n",
        "\n",
        "print(\"\\nTraining CNN Model...\")\n",
        "for epoch in range(num_epochs_cnn):\n",
        "    cnn_model.train()  # Set the model to training mode\n",
        "    running_loss_cnn = 0.0\n",
        "\n",
        "    for inputs, labels in train_dataloader:\n",
        "        # Zero the parameter gradients\n",
        "        cnn_optimizer.zero_grad()\n",
        "\n",
        "        # Forward pass\n",
        "        outputs = cnn_model(inputs)\n",
        "        loss = cnn_criterion(outputs, labels)\n",
        "\n",
        "        # Backward pass and optimize\n",
        "        loss.backward()\n",
        "        cnn_optimizer.step()\n",
        "\n",
        "        # Accumulate the loss\n",
        "        running_loss_cnn += loss.item() * inputs.size(0)\n",
        "\n",
        "    # Calculate average training loss for the epoch\n",
        "    epoch_loss_cnn = running_loss_cnn / len(train_dataset)\n",
        "    print(f'Epoch [{epoch+1}/{num_epochs_cnn}], Loss: {epoch_loss_cnn:.4f}')\n",
        "\n",
        "print('Finished Training CNN Model')"
      ],
      "execution_count": null,
      "outputs": [
        {
          "output_type": "stream",
          "name": "stdout",
          "text": [
            "CNN Model Architecture:\n",
            "CNN(\n",
            "  (conv1): Conv2d(3, 32, kernel_size=(3, 3), stride=(1, 1), padding=(1, 1))\n",
            "  (relu): ReLU()\n",
            "  (pool): MaxPool2d(kernel_size=2, stride=2, padding=0, dilation=1, ceil_mode=False)\n",
            "  (conv2): Conv2d(32, 64, kernel_size=(3, 3), stride=(1, 1), padding=(1, 1))\n",
            "  (conv3): Conv2d(64, 128, kernel_size=(3, 3), stride=(1, 1), padding=(1, 1))\n",
            "  (fc1): Linear(in_features=32768, out_features=512, bias=True)\n",
            "  (fc2): Linear(in_features=512, out_features=10, bias=True)\n",
            ")\n",
            "\n",
            "Training CNN Model...\n",
            "Epoch [1/10], Loss: 2.3792\n",
            "Epoch [2/10], Loss: 1.7029\n",
            "Epoch [3/10], Loss: 1.3146\n",
            "Epoch [4/10], Loss: 0.9867\n",
            "Epoch [5/10], Loss: 0.6713\n",
            "Epoch [6/10], Loss: 0.3957\n",
            "Epoch [7/10], Loss: 0.4335\n",
            "Epoch [8/10], Loss: 0.2201\n",
            "Epoch [9/10], Loss: 0.0888\n",
            "Epoch [10/10], Loss: 0.0565\n",
            "Finished Training CNN Model\n"
          ]
        }
      ]
    },
    {
      "cell_type": "markdown",
      "metadata": {
        "id": "7b4ab82c"
      },
      "source": [
        "## (optional) evaluate and compare cnn with mlp\n",
        "\n",
        "### Subtask:\n",
        "Evaluate the trained CNN model and compare its performance with the MLP model.\n"
      ]
    },
    {
      "cell_type": "markdown",
      "metadata": {
        "id": "81db23ac"
      },
      "source": [
        "**Reasoning**:\n",
        "Evaluate the trained CNN model and compare its performance with the best performing MLP model.\n",
        "\n"
      ]
    },
    {
      "cell_type": "code",
      "metadata": {
        "colab": {
          "base_uri": "https://localhost:8080/"
        },
        "id": "0872e724",
        "outputId": "b11e9fde-7d2c-412c-c773-e24cfb976e2e"
      },
      "source": [
        "from sklearn.metrics import precision_score, recall_score, f1_score\n",
        "import numpy as np\n",
        "\n",
        "# 1. Set the cnn_model to evaluation mode.\n",
        "cnn_model.eval()\n",
        "\n",
        "# 2. Initialize variables to store correct predictions, total predictions, true labels, and predicted labels for the CNN evaluation.\n",
        "correct_predictions_cnn = 0\n",
        "total_predictions_cnn = 0\n",
        "true_labels_cnn = []\n",
        "predicted_labels_cnn = []\n",
        "\n",
        "# 3. Disable gradient calculation using torch.no_grad().\n",
        "with torch.no_grad():\n",
        "    # 4. Iterate through the test_dataloader:\n",
        "    for inputs, labels in test_dataloader:\n",
        "        # a. Get the inputs and labels.\n",
        "\n",
        "        # b. Pass the inputs through the cnn_model.\n",
        "        outputs_cnn = cnn_model(inputs)\n",
        "\n",
        "        # c. Get the predicted class using torch.max.\n",
        "        _, predicted_cnn = torch.max(outputs_cnn.data, 1)\n",
        "\n",
        "        # d. Update the correct and total prediction counts.\n",
        "        total_predictions_cnn += labels.size(0)\n",
        "        correct_predictions_cnn += (predicted_cnn == labels).sum().item()\n",
        "\n",
        "        # e. Extend the true labels list with the current batch's labels.\n",
        "        true_labels_cnn.extend(labels.cpu().numpy())\n",
        "\n",
        "        # f. Extend the predicted labels list with the current batch's predictions.\n",
        "        predicted_labels_cnn.extend(predicted_cnn.cpu().numpy())\n",
        "\n",
        "# 5. Calculate the overall accuracy for the CNN model.\n",
        "accuracy_cnn = correct_predictions_cnn / total_predictions_cnn\n",
        "\n",
        "# 6. Calculate precision, recall, and F1-score for the CNN model using sklearn.metrics with average='weighted' and zero_division=0.\n",
        "precision_cnn = precision_score(true_labels_cnn, predicted_labels_cnn, average='weighted', zero_division=0)\n",
        "recall_cnn = recall_score(true_labels_cnn, predicted_labels_cnn, average='weighted', zero_division=0)\n",
        "f1_cnn = f1_score(true_labels_cnn, predicted_labels_cnn, average='weighted', zero_division=0)\n",
        "\n",
        "# 7. Print the evaluation metrics (accuracy, precision, recall, F1-score) for the CNN model.\n",
        "print(\"--- CNN Model Evaluation Metrics ---\")\n",
        "print(f'Accuracy: {accuracy_cnn:.4f}')\n",
        "print(f'Precision (weighted): {precision_cnn:.4f}')\n",
        "print(f'Recall (weighted): {recall_cnn:.4f}')\n",
        "print(f'F1-score (weighted): {f1_cnn:.4f}')\n",
        "\n",
        "# 8. Compare the performance metrics of the trained CNN model with the best performing MLP model (stored in best_result) and print a summary of the comparison, highlighting which model performed better based on the chosen metrics (e.g., F1-score).\n",
        "print(\"\\n--- Performance Comparison: CNN vs Best MLP ---\")\n",
        "print(f\"CNN F1-score (weighted): {f1_cnn:.4f}\")\n",
        "print(f\"Best MLP F1-score (weighted): {best_result['f1_score']:.4f}\")\n",
        "\n",
        "if f1_cnn > best_result['f1_score']:\n",
        "    print(\"The CNN model performed better than the best MLP model based on F1-score.\")\n",
        "elif f1_cnn < best_result['f1_score']:\n",
        "    print(\"The best MLP model performed better than the CNN model based on F1-score.\")\n",
        "else:\n",
        "    print(\"The CNN and best MLP models performed similarly based on F1-score.\")\n",
        "\n",
        "print(f\"\\nCNN Accuracy: {accuracy_cnn:.4f}\")\n",
        "print(f\"Best MLP Accuracy: {best_result['accuracy']:.4f}\")\n",
        "\n",
        "if accuracy_cnn > best_result['accuracy']:\n",
        "    print(\"The CNN model performed better than the best MLP model based on Accuracy.\")\n",
        "elif accuracy_cnn < best_result['accuracy']:\n",
        "    print(\"The best MLP model performed better than the CNN model based on Accuracy.\")\n",
        "else:\n",
        "    print(\"The CNN and best MLP models performed similarly based on Accuracy.\")"
      ],
      "execution_count": null,
      "outputs": [
        {
          "output_type": "stream",
          "name": "stdout",
          "text": [
            "--- CNN Model Evaluation Metrics ---\n",
            "Accuracy: 0.7000\n",
            "Precision (weighted): 0.7109\n",
            "Recall (weighted): 0.7000\n",
            "F1-score (weighted): 0.6856\n",
            "\n",
            "--- Performance Comparison: CNN vs Best MLP ---\n",
            "CNN F1-score (weighted): 0.6856\n",
            "Best MLP F1-score (weighted): 0.4810\n",
            "The CNN model performed better than the best MLP model based on F1-score.\n",
            "\n",
            "CNN Accuracy: 0.7000\n",
            "Best MLP Accuracy: 0.4647\n",
            "The CNN model performed better than the best MLP model based on Accuracy.\n"
          ]
        }
      ]
    },
    {
      "cell_type": "markdown",
      "metadata": {
        "id": "23d37b05"
      },
      "source": [
        "## Analyze the impact of hyperparameters\n",
        "\n",
        "### Subtask:\n",
        "Analyze how different hyperparameters affect the performance of the models.\n"
      ]
    },
    {
      "cell_type": "markdown",
      "metadata": {
        "id": "5e3c2d7b"
      },
      "source": [
        "**Reasoning**:\n",
        "Analyze the results of the hyperparameter tuning experiments for the MLP and compare the CNN performance to the best MLP.\n",
        "\n"
      ]
    },
    {
      "cell_type": "code",
      "metadata": {
        "colab": {
          "base_uri": "https://localhost:8080/"
        },
        "id": "7df0c4b9",
        "outputId": "47f6187b-252f-4d5c-fd9d-426e33212236"
      },
      "source": [
        "import pandas as pd\n",
        "\n",
        "# 1. Review the results list\n",
        "print(\"MLP Hyperparameter Tuning Results:\")\n",
        "for result in results:\n",
        "    print(result)\n",
        "\n",
        "# 2. Examine the best_result dictionary\n",
        "print(\"\\nBest MLP Result (based on F1-score):\")\n",
        "print(best_result)\n",
        "\n",
        "# 3. Compare performance metrics across different hyperparameter settings (already done in the previous step's output, re-summarizing for clarity)\n",
        "print(\"\\nAnalysis of MLP Hyperparameter Impact:\")\n",
        "print(\"Learning Rate:\")\n",
        "print(f\"- LR 0.001 (Batch 32, Layers 2 [512, 256]): F1-score = {results[0]['f1_score']:.4f}\")\n",
        "print(f\"- LR 0.01 (Batch 32, Layers 2 [512, 256]): F1-score = {results[1]['f1_score']:.4f} (Significantly lower)\")\n",
        "\n",
        "print(\"\\nBatch Size:\")\n",
        "print(f\"- Batch 32 (LR 0.001, Layers 2 [512, 256]): F1-score = {results[0]['f1_score']:.4f}\")\n",
        "print(f\"- Batch 64 (LR 0.001, Layers 2 [512, 256]): F1-score = {results[2]['f1_score']:.4f} (Slight improvement)\")\n",
        "\n",
        "print(\"\\nNetwork Architecture (Hidden Layers and Neurons):\")\n",
        "print(f\"- Layers 2 [512, 256] (LR 0.001, Batch 32): F1-score = {results[0]['f1_score']:.4f}\")\n",
        "print(f\"- Layers 3 [512, 256, 128] (LR 0.001, Batch 32): F1-score = {results[3]['f1_score']:.4f} (Best performance)\")\n",
        "print(f\"- Layers 2 [256, 128] (LR 0.001, Batch 32): F1-score = {results[4]['f1_score']:.4f} (Better than [512, 256])\")\n",
        "\n",
        "\n",
        "# 4. Consider training loss curves (Not explicitly stored, rely on printed output from previous steps)\n",
        "# The printed epoch losses showed decreasing trends for all configurations, indicating learning occurred, but the rate of decrease and final loss levels would differ, influencing performance.\n",
        "\n",
        "# 5. Summarize the impact of hyperparameters\n",
        "print(\"\\nSummary of Hyperparameter Impact on MLP:\")\n",
        "print(\"- Learning Rate: A learning rate of 0.001 performed significantly better than 0.01, suggesting that a smaller step size was more suitable for convergence without overshooting the minimum.\")\n",
        "print(\"- Batch Size: Increasing the batch size from 32 to 64 resulted in a slight improvement in performance, possibly due to more stable gradient estimates, although the effect was not as pronounced as the learning rate or architecture.\")\n",
        "print(\"- Network Architecture: The depth and width of the network had a notable impact. A deeper network with 3 layers ([512, 256, 128]) achieved the best F1-score among the tested configurations. Interestingly, a shallower network with fewer neurons ([256, 128]) performed better than a shallower network with more neurons ([512, 256]) at the same learning rate and batch size, suggesting that more layers and a specific distribution of neurons across layers were beneficial.\")\n",
        "print(\"Overall, the network architecture (number of layers and neurons) and the learning rate appeared to have the most significant impact on the MLP's performance in these experiments.\")\n",
        "\n",
        "\n",
        "# 6. Compare CNN performance to the best performing MLP\n",
        "print(\"\\n--- Performance Comparison: CNN vs Best MLP ---\")\n",
        "print(f\"CNN F1-score (weighted): {f1_cnn:.4f}\")\n",
        "print(f\"Best MLP F1-score (weighted): {best_result['f1_score']:.4f}\")\n",
        "print(f\"CNN Accuracy: {accuracy_cnn:.4f}\")\n",
        "print(f\"Best MLP Accuracy: {best_result['accuracy']:.4f}\")\n",
        "\n",
        "if f1_cnn > best_result['f1_score']:\n",
        "    print(\"\\nThe CNN model significantly outperformed the best MLP model based on F1-score.\")\n",
        "elif f1_cnn < best_result['f1_score']:\n",
        "    print(\"\\nThe best MLP model performed better than the CNN model based on F1-score.\")\n",
        "else:\n",
        "    print(\"\\nThe CNN and best MLP models performed similarly based on F1-score.\")\n",
        "\n",
        "if accuracy_cnn > best_result['accuracy']:\n",
        "    print(\"The CNN model significantly outperformed the best MLP model based on Accuracy.\")\n",
        "elif accuracy_cnn < best_result['accuracy']:\n",
        "    print(\"The best MLP model performed better than the CNN model based on Accuracy.\")\n",
        "else:\n",
        "    print(\"The CNN and best MLP models performed similarly based on Accuracy.\")\n",
        "\n",
        "# 7. Write a concise analysis summarizing these observations (included in the printed output above)."
      ],
      "execution_count": null,
      "outputs": [
        {
          "output_type": "stream",
          "name": "stdout",
          "text": [
            "MLP Hyperparameter Tuning Results:\n",
            "{'hyperparameters': {'learning_rate': 0.001, 'batch_size': 32, 'hidden_layers': 2, 'neurons_per_layer': [512, 256]}, 'accuracy': 0.4235294117647059, 'precision': 0.43009217102733766, 'recall': 0.4235294117647059, 'f1_score': 0.405674324638519}\n",
            "{'hyperparameters': {'learning_rate': 0.01, 'batch_size': 32, 'hidden_layers': 2, 'neurons_per_layer': [512, 256]}, 'accuracy': 0.12941176470588237, 'precision': 0.25458978328173376, 'recall': 0.12941176470588237, 'f1_score': 0.08119592018010015}\n",
            "{'hyperparameters': {'learning_rate': 0.001, 'batch_size': 64, 'hidden_layers': 2, 'neurons_per_layer': [512, 256]}, 'accuracy': 0.4411764705882353, 'precision': 0.46981595707336643, 'recall': 0.4411764705882353, 'f1_score': 0.425566885598938}\n",
            "{'hyperparameters': {'learning_rate': 0.001, 'batch_size': 32, 'hidden_layers': 3, 'neurons_per_layer': [512, 256, 128]}, 'accuracy': 0.4647058823529412, 'precision': 0.5273906485671191, 'recall': 0.4647058823529412, 'f1_score': 0.48104115696956307}\n",
            "{'hyperparameters': {'learning_rate': 0.001, 'batch_size': 32, 'hidden_layers': 2, 'neurons_per_layer': [256, 128]}, 'accuracy': 0.4470588235294118, 'precision': 0.48813744214263244, 'recall': 0.4470588235294118, 'f1_score': 0.45554364723208}\n",
            "\n",
            "Best MLP Result (based on F1-score):\n",
            "{'hyperparameters': {'learning_rate': 0.001, 'batch_size': 32, 'hidden_layers': 3, 'neurons_per_layer': [512, 256, 128]}, 'accuracy': 0.4647058823529412, 'precision': 0.5273906485671191, 'recall': 0.4647058823529412, 'f1_score': 0.48104115696956307}\n",
            "\n",
            "Analysis of MLP Hyperparameter Impact:\n",
            "Learning Rate:\n",
            "- LR 0.001 (Batch 32, Layers 2 [512, 256]): F1-score = 0.4057\n",
            "- LR 0.01 (Batch 32, Layers 2 [512, 256]): F1-score = 0.0812 (Significantly lower)\n",
            "\n",
            "Batch Size:\n",
            "- Batch 32 (LR 0.001, Layers 2 [512, 256]): F1-score = 0.4057\n",
            "- Batch 64 (LR 0.001, Layers 2 [512, 256]): F1-score = 0.4256 (Slight improvement)\n",
            "\n",
            "Network Architecture (Hidden Layers and Neurons):\n",
            "- Layers 2 [512, 256] (LR 0.001, Batch 32): F1-score = 0.4057\n",
            "- Layers 3 [512, 256, 128] (LR 0.001, Batch 32): F1-score = 0.4810 (Best performance)\n",
            "- Layers 2 [256, 128] (LR 0.001, Batch 32): F1-score = 0.4555 (Better than [512, 256])\n",
            "\n",
            "Summary of Hyperparameter Impact on MLP:\n",
            "- Learning Rate: A learning rate of 0.001 performed significantly better than 0.01, suggesting that a smaller step size was more suitable for convergence without overshooting the minimum.\n",
            "- Batch Size: Increasing the batch size from 32 to 64 resulted in a slight improvement in performance, possibly due to more stable gradient estimates, although the effect was not as pronounced as the learning rate or architecture.\n",
            "- Network Architecture: The depth and width of the network had a notable impact. A deeper network with 3 layers ([512, 256, 128]) achieved the best F1-score among the tested configurations. Interestingly, a shallower network with fewer neurons ([256, 128]) performed better than a shallower network with more neurons ([512, 256]) at the same learning rate and batch size, suggesting that more layers and a specific distribution of neurons across layers were beneficial.\n",
            "Overall, the network architecture (number of layers and neurons) and the learning rate appeared to have the most significant impact on the MLP's performance in these experiments.\n",
            "\n",
            "--- Performance Comparison: CNN vs Best MLP ---\n",
            "CNN F1-score (weighted): 0.6856\n",
            "Best MLP F1-score (weighted): 0.4810\n",
            "CNN Accuracy: 0.7000\n",
            "Best MLP Accuracy: 0.4647\n",
            "\n",
            "The CNN model significantly outperformed the best MLP model based on F1-score.\n",
            "The CNN model significantly outperformed the best MLP model based on Accuracy.\n"
          ]
        }
      ]
    },
    {
      "cell_type": "markdown",
      "metadata": {
        "id": "53fade6b"
      },
      "source": [
        "## Summary:\n",
        "\n",
        "### Data Analysis Key Findings\n",
        "\n",
        "*   The dataset consists of 850 colored butterfly images across 10 classes, split into 680 for training and 170 for testing.\n",
        "*   A custom PyTorch `Dataset` class was necessary to load the images due to their directory structure.\n",
        "*   The images were resized to 128x128 and normalized before being used by the models.\n",
        "*   The initial MLP model achieved an accuracy of approximately 41.76% and a weighted F1-score of around 39.71% on the test set after 10 epochs.\n",
        "*   Hyperparameter tuning for the MLP revealed:\n",
        "    *   A learning rate of 0.001 performed significantly better than 0.01.\n",
        "    *   Increasing the batch size from 32 to 64 resulted in a slight improvement in performance.\n",
        "    *   A deeper MLP network with 3 layers ([512, 256, 128] neurons) achieved the best F1-score (~0.481) among the tested MLP configurations.\n",
        "    *   A shallower 2-layer network with fewer neurons ([256, 128]) outperformed a 2-layer network with more neurons ([512, 256]).\n",
        "*   The best performing MLP configuration achieved an F1-score of approximately 0.481 and an accuracy of 0.465 on the test set after 5 epochs.\n",
        "*   The implemented CNN model significantly outperformed the best performing MLP model, achieving an F1-score of approximately 0.686 and an accuracy of 0.700 after 10 epochs.\n",
        "\n",
        "### Insights or Next Steps\n",
        "\n",
        "*   Convolutional Neural Networks are significantly more effective than MLPs for this colored image classification task, likely due to their ability to capture spatial hierarchies and local features in images.\n",
        "*   Further hyperparameter tuning for both the best MLP and the CNN, including experimenting with regularization techniques (like dropout) and different optimizers or learning rate schedules, could potentially improve performance.\n"
      ]
    }
  ],
  "metadata": {
    "accelerator": "GPU",
    "colab": {
      "gpuType": "T4",
      "provenance": [],
      "include_colab_link": true
    },
    "kernelspec": {
      "display_name": "Python 3",
      "name": "python3"
    },
    "language_info": {
      "name": "python"
    }
  },
  "nbformat": 4,
  "nbformat_minor": 0
}